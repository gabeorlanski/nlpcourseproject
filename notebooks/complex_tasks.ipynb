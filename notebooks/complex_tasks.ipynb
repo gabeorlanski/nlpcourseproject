{
 "cells": [
  {
   "cell_type": "code",
   "execution_count": 5,
   "id": "84dd75ab",
   "metadata": {},
   "outputs": [
    {
     "name": "stdout",
     "output_type": "stream",
     "text": [
      "/home/gabe/Coding/nlpcourseproject\n"
     ]
    }
   ],
   "source": [
    "from pathlib import Path\n",
    "import pandas as pd\n",
    "import numpy as np\n",
    "import re\n",
    "import json\n",
    "\n",
    "pd.set_option('display.max_rows', 500)\n",
    "pd.set_option('display.max_columns', 500)\n",
    "pd.set_option('display.width', 150)\n",
    "\n",
    "import matplotlib.pyplot as plt\n",
    "\n",
    "import plotly.graph_objects as go\n",
    "from plotly.subplots import make_subplots\n",
    "\n",
    "# %matplotlib inline\n",
    "PROJECT_ROOT = Path.cwd().parent\n",
    "data_path = PROJECT_ROOT.joinpath('data')\n",
    "print(PROJECT_ROOT)"
   ]
  },
  {
   "cell_type": "code",
   "execution_count": 6,
   "id": "ea55f298",
   "metadata": {},
   "outputs": [],
   "source": [
    "pred_path = data_path.joinpath('predictions')"
   ]
  },
  {
   "cell_type": "code",
   "execution_count": 9,
   "id": "aecbe607",
   "metadata": {},
   "outputs": [],
   "source": [
    "aqua_data = pd.DataFrame.from_records(list(map(\n",
    "    json.loads,\n",
    "    pred_path.joinpath('AQuA_validation.jsonl').read_text('utf-8').splitlines(False)\n",
    ")))\n",
    "craigslist_data = pd.DataFrame.from_records(list(map(\n",
    "    json.loads,\n",
    "    pred_path.joinpath('craigslist_bargains_validation.jsonl').read_text('utf-8').splitlines(False)\n",
    ")))"
   ]
  },
  {
   "cell_type": "code",
   "execution_count": 13,
   "id": "1ef48764",
   "metadata": {},
   "outputs": [
    {
     "data": {
      "text/html": [
       "<div>\n",
       "<style scoped>\n",
       "    .dataframe tbody tr th:only-of-type {\n",
       "        vertical-align: middle;\n",
       "    }\n",
       "\n",
       "    .dataframe tbody tr th {\n",
       "        vertical-align: top;\n",
       "    }\n",
       "\n",
       "    .dataframe thead th {\n",
       "        text-align: right;\n",
       "    }\n",
       "</style>\n",
       "<table border=\"1\" class=\"dataframe\">\n",
       "  <thead>\n",
       "    <tr style=\"text-align: right;\">\n",
       "      <th></th>\n",
       "      <th></th>\n",
       "      <th>0</th>\n",
       "    </tr>\n",
       "    <tr>\n",
       "      <th>run_name</th>\n",
       "      <th>prediction</th>\n",
       "      <th></th>\n",
       "    </tr>\n",
       "  </thead>\n",
       "  <tbody>\n",
       "    <tr>\n",
       "      <th rowspan=\"5\" valign=\"top\">T0</th>\n",
       "      <th>A</th>\n",
       "      <td>7.0</td>\n",
       "    </tr>\n",
       "    <tr>\n",
       "      <th>B</th>\n",
       "      <td>26.0</td>\n",
       "    </tr>\n",
       "    <tr>\n",
       "      <th>C</th>\n",
       "      <td>161.0</td>\n",
       "    </tr>\n",
       "    <tr>\n",
       "      <th>D</th>\n",
       "      <td>26.0</td>\n",
       "    </tr>\n",
       "    <tr>\n",
       "      <th>E</th>\n",
       "      <td>34.0</td>\n",
       "    </tr>\n",
       "    <tr>\n",
       "      <th rowspan=\"3\" valign=\"top\">T5</th>\n",
       "      <th>A</th>\n",
       "      <td>2.0</td>\n",
       "    </tr>\n",
       "    <tr>\n",
       "      <th>B</th>\n",
       "      <td>171.0</td>\n",
       "    </tr>\n",
       "    <tr>\n",
       "      <th>E</th>\n",
       "      <td>48.0</td>\n",
       "    </tr>\n",
       "  </tbody>\n",
       "</table>\n",
       "</div>"
      ],
      "text/plain": [
       "                         0\n",
       "run_name prediction       \n",
       "T0       A             7.0\n",
       "         B            26.0\n",
       "         C           161.0\n",
       "         D            26.0\n",
       "         E            34.0\n",
       "T5       A             2.0\n",
       "         B           171.0\n",
       "         E            48.0"
      ]
     },
     "execution_count": 13,
     "metadata": {},
     "output_type": "execute_result"
    }
   ],
   "source": [
    "aqua_data.groupby(['run_name','name','prediction']).size().reset_index().groupby(['run_name','prediction']).median()"
   ]
  },
  {
   "cell_type": "code",
   "execution_count": 11,
   "id": "187f1c66",
   "metadata": {},
   "outputs": [
    {
     "data": {
      "text/html": [
       "<div>\n",
       "<style scoped>\n",
       "    .dataframe tbody tr th:only-of-type {\n",
       "        vertical-align: middle;\n",
       "    }\n",
       "\n",
       "    .dataframe tbody tr th {\n",
       "        vertical-align: top;\n",
       "    }\n",
       "\n",
       "    .dataframe thead th {\n",
       "        text-align: right;\n",
       "    }\n",
       "</style>\n",
       "<table border=\"1\" class=\"dataframe\">\n",
       "  <thead>\n",
       "    <tr style=\"text-align: right;\">\n",
       "      <th></th>\n",
       "      <th>run_name</th>\n",
       "      <th>name</th>\n",
       "      <th>id</th>\n",
       "      <th>prediction</th>\n",
       "      <th>target</th>\n",
       "      <th>input</th>\n",
       "      <th>choice_logits</th>\n",
       "    </tr>\n",
       "  </thead>\n",
       "  <tbody>\n",
       "    <tr>\n",
       "      <th>0</th>\n",
       "      <td>T5</td>\n",
       "      <td>T5.Original_aqua_rat_raw.Answer_questions_from...</td>\n",
       "      <td>0</td>\n",
       "      <td>B</td>\n",
       "      <td>A</td>\n",
       "      <td>Solve the following question and choose the co...</td>\n",
       "      <td>{'0': -23.602636337280273, '1': -20.0794544219...</td>\n",
       "    </tr>\n",
       "    <tr>\n",
       "      <th>1</th>\n",
       "      <td>T5</td>\n",
       "      <td>T5.Original_aqua_rat_raw.Answer_questions_from...</td>\n",
       "      <td>1</td>\n",
       "      <td>B</td>\n",
       "      <td>D</td>\n",
       "      <td>Solve the following question and choose the co...</td>\n",
       "      <td>{'0': -23.74020004272461, '1': -19.50389862060...</td>\n",
       "    </tr>\n",
       "    <tr>\n",
       "      <th>2</th>\n",
       "      <td>T5</td>\n",
       "      <td>T5.Original_aqua_rat_raw.Answer_questions_from...</td>\n",
       "      <td>2</td>\n",
       "      <td>B</td>\n",
       "      <td>C</td>\n",
       "      <td>Solve the following question and choose the co...</td>\n",
       "      <td>{'0': -23.875225067138672, '1': -19.8538379669...</td>\n",
       "    </tr>\n",
       "    <tr>\n",
       "      <th>3</th>\n",
       "      <td>T5</td>\n",
       "      <td>T5.Original_aqua_rat_raw.Answer_questions_from...</td>\n",
       "      <td>3</td>\n",
       "      <td>E</td>\n",
       "      <td>B</td>\n",
       "      <td>Solve the following question and choose the co...</td>\n",
       "      <td>{'0': -24.927553176879883, '1': -20.7527313232...</td>\n",
       "    </tr>\n",
       "    <tr>\n",
       "      <th>4</th>\n",
       "      <td>T5</td>\n",
       "      <td>T5.Original_aqua_rat_raw.Answer_questions_from...</td>\n",
       "      <td>4</td>\n",
       "      <td>B</td>\n",
       "      <td>C</td>\n",
       "      <td>Solve the following question and choose the co...</td>\n",
       "      <td>{'0': -24.51395034790039, '1': -20.52626419067...</td>\n",
       "    </tr>\n",
       "  </tbody>\n",
       "</table>\n",
       "</div>"
      ],
      "text/plain": [
       "  run_name                                               name  id prediction target                                              input  \\\n",
       "0       T5  T5.Original_aqua_rat_raw.Answer_questions_from...   0          B      A  Solve the following question and choose the co...   \n",
       "1       T5  T5.Original_aqua_rat_raw.Answer_questions_from...   1          B      D  Solve the following question and choose the co...   \n",
       "2       T5  T5.Original_aqua_rat_raw.Answer_questions_from...   2          B      C  Solve the following question and choose the co...   \n",
       "3       T5  T5.Original_aqua_rat_raw.Answer_questions_from...   3          E      B  Solve the following question and choose the co...   \n",
       "4       T5  T5.Original_aqua_rat_raw.Answer_questions_from...   4          B      C  Solve the following question and choose the co...   \n",
       "\n",
       "                                       choice_logits  \n",
       "0  {'0': -23.602636337280273, '1': -20.0794544219...  \n",
       "1  {'0': -23.74020004272461, '1': -19.50389862060...  \n",
       "2  {'0': -23.875225067138672, '1': -19.8538379669...  \n",
       "3  {'0': -24.927553176879883, '1': -20.7527313232...  \n",
       "4  {'0': -24.51395034790039, '1': -20.52626419067...  "
      ]
     },
     "execution_count": 11,
     "metadata": {},
     "output_type": "execute_result"
    }
   ],
   "source": [
    "aqua_data.head()"
   ]
  },
  {
   "cell_type": "code",
   "execution_count": null,
   "id": "a5bee9a7",
   "metadata": {},
   "outputs": [],
   "source": []
  }
 ],
 "metadata": {
  "kernelspec": {
   "display_name": "nlpcourseproject",
   "language": "python",
   "name": "nlpcourseproject"
  },
  "language_info": {
   "codemirror_mode": {
    "name": "ipython",
    "version": 3
   },
   "file_extension": ".py",
   "mimetype": "text/x-python",
   "name": "python",
   "nbconvert_exporter": "python",
   "pygments_lexer": "ipython3",
   "version": "3.7.11"
  }
 },
 "nbformat": 4,
 "nbformat_minor": 5
}
