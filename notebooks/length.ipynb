{
 "cells": [
  {
   "cell_type": "code",
   "execution_count": 1,
   "id": "fcbc4611",
   "metadata": {},
   "outputs": [
    {
     "name": "stdout",
     "output_type": "stream",
     "text": [
      "/home/gabe/Coding/nlpcourseproject\n"
     ]
    }
   ],
   "source": [
    "from pathlib import Path\n",
    "import pandas as pd\n",
    "import numpy as np\n",
    "import re\n",
    "\n",
    "pd.set_option('display.max_rows', 500)\n",
    "pd.set_option('display.max_columns', 500)\n",
    "pd.set_option('display.width', 150)\n",
    "\n",
    "import matplotlib.pyplot as plt\n",
    "\n",
    "import plotly.graph_objects as go\n",
    "from plotly.subplots import make_subplots\n",
    "\n",
    "# %matplotlib inline\n",
    "PROJECT_ROOT = Path.cwd().parent\n",
    "data_path = PROJECT_ROOT.joinpath('data')\n",
    "print(PROJECT_ROOT)"
   ]
  },
  {
   "cell_type": "code",
   "execution_count": 11,
   "id": "28da0a61",
   "metadata": {},
   "outputs": [],
   "source": [
    "data = pd.read_csv(data_path.joinpath('accuracy_run_results.csv'))\n",
    "\n",
    "medians = data.groupby(['prompt_id','prompt_name','prompt_task']).median().reset_index()"
   ]
  },
  {
   "cell_type": "code",
   "execution_count": 109,
   "id": "e3fa66cf",
   "metadata": {},
   "outputs": [
    {
     "data": {
      "application/vnd.plotly.v1+json": {
       "config": {
        "plotlyServerURL": "https://plot.ly"
       },
       "data": [
        {
         "mode": "markers",
         "showlegend": false,
         "type": "scatter",
         "x": [
          10,
          9,
          20,
          14,
          8,
          13,
          7,
          12,
          13,
          42,
          16,
          11,
          20,
          40,
          20,
          9,
          43,
          10,
          6,
          10,
          12,
          18,
          2,
          2,
          14,
          22,
          17,
          13,
          11,
          24,
          12,
          39,
          18,
          11,
          33,
          17,
          11,
          17,
          24,
          6,
          9,
          25,
          4,
          17,
          31,
          25,
          28,
          0,
          10,
          52,
          23,
          9,
          0,
          10,
          10,
          0,
          21,
          15,
          23,
          40,
          16,
          53,
          19,
          21,
          23,
          11,
          9,
          8,
          17,
          0,
          11,
          2,
          12,
          14,
          37,
          11,
          0,
          24,
          2,
          28,
          0,
          2,
          8,
          13,
          13,
          0,
          8,
          6,
          14,
          20
         ],
         "xaxis": "x2",
         "y": [
          49.5,
          23,
          59.5,
          15,
          31.5,
          22,
          35,
          11.5,
          60.5,
          87.5,
          77.5,
          51.5,
          21.5,
          62.5,
          42,
          73.5,
          84.25,
          66,
          48.5,
          50,
          22,
          40,
          75.5,
          33,
          69,
          36,
          49,
          60,
          76,
          66,
          43,
          81.75,
          54,
          60.5,
          15,
          12.5,
          34,
          62.5,
          27.5,
          21,
          68.5,
          78.5,
          42,
          16.5,
          32.5,
          73.5,
          32.5,
          52.5,
          60.5,
          81.5,
          28.5,
          88.75,
          21.5,
          17.5,
          70.25,
          62.75,
          55.75,
          12,
          24.5,
          59.5,
          38,
          70.5,
          13,
          22,
          37,
          32,
          53.5,
          74.5,
          16.75,
          55.25,
          34.5,
          35.75,
          36.5,
          36.5,
          82.25,
          66,
          68,
          50,
          33.25,
          66,
          86,
          53,
          11,
          30,
          74.5,
          44.5,
          16.5,
          25,
          9,
          18.5
         ],
         "yaxis": "y2"
        },
        {
         "mode": "markers",
         "showlegend": false,
         "type": "scatter",
         "x": [
          10,
          9,
          20,
          14,
          8,
          13,
          7,
          12,
          13,
          42,
          16,
          11,
          20,
          40,
          20,
          9,
          43,
          10,
          6,
          10,
          12,
          18,
          2,
          2,
          14,
          22,
          17,
          13,
          11,
          24,
          12,
          39,
          18,
          11,
          33,
          17,
          11,
          17,
          24,
          6,
          9,
          25,
          4,
          17,
          31,
          25,
          28,
          0,
          10,
          52,
          23,
          9,
          0,
          10,
          10,
          0,
          21,
          15,
          23,
          40,
          16,
          53,
          19,
          21,
          23,
          11,
          9,
          8,
          17,
          0,
          11,
          2,
          12,
          14,
          37,
          11,
          0,
          24,
          2,
          28,
          0,
          2,
          8,
          13,
          13,
          0,
          8,
          6,
          14,
          20
         ],
         "xaxis": "x",
         "y": [
          48.25,
          28.25,
          73.5,
          27.5,
          34.75,
          36,
          26.25,
          14,
          69.75,
          62.75,
          72,
          56.25,
          17.5,
          62.75,
          39.25,
          77.25,
          84.75,
          52.25,
          48,
          55.5,
          22.25,
          28.5,
          47.5,
          28.75,
          63.5,
          45.25,
          53.25,
          54.5,
          65.25,
          65.25,
          47,
          63.5,
          50.25,
          60.75,
          12.75,
          16.75,
          34.25,
          66.5,
          36,
          19.25,
          67.25,
          59.75,
          54.25,
          22.25,
          35,
          55.25,
          42,
          49,
          56.5,
          78.75,
          23.5,
          77,
          29.5,
          24.5,
          74.5,
          32,
          45.75,
          14,
          17.25,
          62.5,
          39.75,
          77.25,
          16,
          32.25,
          60.5,
          34.75,
          58,
          63,
          19.5,
          64.75,
          16.25,
          35.25,
          42.5,
          42.25,
          75.75,
          56,
          58.25,
          44.75,
          37.25,
          50.25,
          52,
          46.5,
          16.75,
          34,
          54.25,
          52.25,
          17.75,
          29,
          9.75,
          24.5
         ],
         "yaxis": "y"
        }
       ],
       "layout": {
        "annotations": [
         {
          "font": {
           "size": 16
          },
          "showarrow": false,
          "text": "Accuracy",
          "x": 0.225,
          "xanchor": "center",
          "xref": "paper",
          "y": 1,
          "yanchor": "bottom",
          "yref": "paper"
         },
         {
          "font": {
           "size": 16
          },
          "showarrow": false,
          "text": "F1",
          "x": 0.775,
          "xanchor": "center",
          "xref": "paper",
          "y": 1,
          "yanchor": "bottom",
          "yref": "paper"
         }
        ],
        "font": {
         "size": 15
        },
        "height": 600,
        "legend": {
         "bgcolor": "rgba(0,0,0,0)",
         "orientation": "h",
         "x": 0.5,
         "xanchor": "center"
        },
        "template": {
         "data": {
          "bar": [
           {
            "error_x": {
             "color": "#2a3f5f"
            },
            "error_y": {
             "color": "#2a3f5f"
            },
            "marker": {
             "line": {
              "color": "white",
              "width": 0.5
             },
             "pattern": {
              "fillmode": "overlay",
              "size": 10,
              "solidity": 0.2
             }
            },
            "type": "bar"
           }
          ],
          "barpolar": [
           {
            "marker": {
             "line": {
              "color": "white",
              "width": 0.5
             },
             "pattern": {
              "fillmode": "overlay",
              "size": 10,
              "solidity": 0.2
             }
            },
            "type": "barpolar"
           }
          ],
          "carpet": [
           {
            "aaxis": {
             "endlinecolor": "#2a3f5f",
             "gridcolor": "#C8D4E3",
             "linecolor": "#C8D4E3",
             "minorgridcolor": "#C8D4E3",
             "startlinecolor": "#2a3f5f"
            },
            "baxis": {
             "endlinecolor": "#2a3f5f",
             "gridcolor": "#C8D4E3",
             "linecolor": "#C8D4E3",
             "minorgridcolor": "#C8D4E3",
             "startlinecolor": "#2a3f5f"
            },
            "type": "carpet"
           }
          ],
          "choropleth": [
           {
            "colorbar": {
             "outlinewidth": 0,
             "ticks": ""
            },
            "type": "choropleth"
           }
          ],
          "contour": [
           {
            "colorbar": {
             "outlinewidth": 0,
             "ticks": ""
            },
            "colorscale": [
             [
              0,
              "#0d0887"
             ],
             [
              0.1111111111111111,
              "#46039f"
             ],
             [
              0.2222222222222222,
              "#7201a8"
             ],
             [
              0.3333333333333333,
              "#9c179e"
             ],
             [
              0.4444444444444444,
              "#bd3786"
             ],
             [
              0.5555555555555556,
              "#d8576b"
             ],
             [
              0.6666666666666666,
              "#ed7953"
             ],
             [
              0.7777777777777778,
              "#fb9f3a"
             ],
             [
              0.8888888888888888,
              "#fdca26"
             ],
             [
              1,
              "#f0f921"
             ]
            ],
            "type": "contour"
           }
          ],
          "contourcarpet": [
           {
            "colorbar": {
             "outlinewidth": 0,
             "ticks": ""
            },
            "type": "contourcarpet"
           }
          ],
          "heatmap": [
           {
            "colorbar": {
             "outlinewidth": 0,
             "ticks": ""
            },
            "colorscale": [
             [
              0,
              "#0d0887"
             ],
             [
              0.1111111111111111,
              "#46039f"
             ],
             [
              0.2222222222222222,
              "#7201a8"
             ],
             [
              0.3333333333333333,
              "#9c179e"
             ],
             [
              0.4444444444444444,
              "#bd3786"
             ],
             [
              0.5555555555555556,
              "#d8576b"
             ],
             [
              0.6666666666666666,
              "#ed7953"
             ],
             [
              0.7777777777777778,
              "#fb9f3a"
             ],
             [
              0.8888888888888888,
              "#fdca26"
             ],
             [
              1,
              "#f0f921"
             ]
            ],
            "type": "heatmap"
           }
          ],
          "heatmapgl": [
           {
            "colorbar": {
             "outlinewidth": 0,
             "ticks": ""
            },
            "colorscale": [
             [
              0,
              "#0d0887"
             ],
             [
              0.1111111111111111,
              "#46039f"
             ],
             [
              0.2222222222222222,
              "#7201a8"
             ],
             [
              0.3333333333333333,
              "#9c179e"
             ],
             [
              0.4444444444444444,
              "#bd3786"
             ],
             [
              0.5555555555555556,
              "#d8576b"
             ],
             [
              0.6666666666666666,
              "#ed7953"
             ],
             [
              0.7777777777777778,
              "#fb9f3a"
             ],
             [
              0.8888888888888888,
              "#fdca26"
             ],
             [
              1,
              "#f0f921"
             ]
            ],
            "type": "heatmapgl"
           }
          ],
          "histogram": [
           {
            "marker": {
             "pattern": {
              "fillmode": "overlay",
              "size": 10,
              "solidity": 0.2
             }
            },
            "type": "histogram"
           }
          ],
          "histogram2d": [
           {
            "colorbar": {
             "outlinewidth": 0,
             "ticks": ""
            },
            "colorscale": [
             [
              0,
              "#0d0887"
             ],
             [
              0.1111111111111111,
              "#46039f"
             ],
             [
              0.2222222222222222,
              "#7201a8"
             ],
             [
              0.3333333333333333,
              "#9c179e"
             ],
             [
              0.4444444444444444,
              "#bd3786"
             ],
             [
              0.5555555555555556,
              "#d8576b"
             ],
             [
              0.6666666666666666,
              "#ed7953"
             ],
             [
              0.7777777777777778,
              "#fb9f3a"
             ],
             [
              0.8888888888888888,
              "#fdca26"
             ],
             [
              1,
              "#f0f921"
             ]
            ],
            "type": "histogram2d"
           }
          ],
          "histogram2dcontour": [
           {
            "colorbar": {
             "outlinewidth": 0,
             "ticks": ""
            },
            "colorscale": [
             [
              0,
              "#0d0887"
             ],
             [
              0.1111111111111111,
              "#46039f"
             ],
             [
              0.2222222222222222,
              "#7201a8"
             ],
             [
              0.3333333333333333,
              "#9c179e"
             ],
             [
              0.4444444444444444,
              "#bd3786"
             ],
             [
              0.5555555555555556,
              "#d8576b"
             ],
             [
              0.6666666666666666,
              "#ed7953"
             ],
             [
              0.7777777777777778,
              "#fb9f3a"
             ],
             [
              0.8888888888888888,
              "#fdca26"
             ],
             [
              1,
              "#f0f921"
             ]
            ],
            "type": "histogram2dcontour"
           }
          ],
          "mesh3d": [
           {
            "colorbar": {
             "outlinewidth": 0,
             "ticks": ""
            },
            "type": "mesh3d"
           }
          ],
          "parcoords": [
           {
            "line": {
             "colorbar": {
              "outlinewidth": 0,
              "ticks": ""
             }
            },
            "type": "parcoords"
           }
          ],
          "pie": [
           {
            "automargin": true,
            "type": "pie"
           }
          ],
          "scatter": [
           {
            "marker": {
             "colorbar": {
              "outlinewidth": 0,
              "ticks": ""
             }
            },
            "type": "scatter"
           }
          ],
          "scatter3d": [
           {
            "line": {
             "colorbar": {
              "outlinewidth": 0,
              "ticks": ""
             }
            },
            "marker": {
             "colorbar": {
              "outlinewidth": 0,
              "ticks": ""
             }
            },
            "type": "scatter3d"
           }
          ],
          "scattercarpet": [
           {
            "marker": {
             "colorbar": {
              "outlinewidth": 0,
              "ticks": ""
             }
            },
            "type": "scattercarpet"
           }
          ],
          "scattergeo": [
           {
            "marker": {
             "colorbar": {
              "outlinewidth": 0,
              "ticks": ""
             }
            },
            "type": "scattergeo"
           }
          ],
          "scattergl": [
           {
            "marker": {
             "colorbar": {
              "outlinewidth": 0,
              "ticks": ""
             }
            },
            "type": "scattergl"
           }
          ],
          "scattermapbox": [
           {
            "marker": {
             "colorbar": {
              "outlinewidth": 0,
              "ticks": ""
             }
            },
            "type": "scattermapbox"
           }
          ],
          "scatterpolar": [
           {
            "marker": {
             "colorbar": {
              "outlinewidth": 0,
              "ticks": ""
             }
            },
            "type": "scatterpolar"
           }
          ],
          "scatterpolargl": [
           {
            "marker": {
             "colorbar": {
              "outlinewidth": 0,
              "ticks": ""
             }
            },
            "type": "scatterpolargl"
           }
          ],
          "scatterternary": [
           {
            "marker": {
             "colorbar": {
              "outlinewidth": 0,
              "ticks": ""
             }
            },
            "type": "scatterternary"
           }
          ],
          "surface": [
           {
            "colorbar": {
             "outlinewidth": 0,
             "ticks": ""
            },
            "colorscale": [
             [
              0,
              "#0d0887"
             ],
             [
              0.1111111111111111,
              "#46039f"
             ],
             [
              0.2222222222222222,
              "#7201a8"
             ],
             [
              0.3333333333333333,
              "#9c179e"
             ],
             [
              0.4444444444444444,
              "#bd3786"
             ],
             [
              0.5555555555555556,
              "#d8576b"
             ],
             [
              0.6666666666666666,
              "#ed7953"
             ],
             [
              0.7777777777777778,
              "#fb9f3a"
             ],
             [
              0.8888888888888888,
              "#fdca26"
             ],
             [
              1,
              "#f0f921"
             ]
            ],
            "type": "surface"
           }
          ],
          "table": [
           {
            "cells": {
             "fill": {
              "color": "#EBF0F8"
             },
             "line": {
              "color": "white"
             }
            },
            "header": {
             "fill": {
              "color": "#C8D4E3"
             },
             "line": {
              "color": "white"
             }
            },
            "type": "table"
           }
          ]
         },
         "layout": {
          "annotationdefaults": {
           "arrowcolor": "#2a3f5f",
           "arrowhead": 0,
           "arrowwidth": 1
          },
          "autotypenumbers": "strict",
          "coloraxis": {
           "colorbar": {
            "outlinewidth": 0,
            "ticks": ""
           }
          },
          "colorscale": {
           "diverging": [
            [
             0,
             "#8e0152"
            ],
            [
             0.1,
             "#c51b7d"
            ],
            [
             0.2,
             "#de77ae"
            ],
            [
             0.3,
             "#f1b6da"
            ],
            [
             0.4,
             "#fde0ef"
            ],
            [
             0.5,
             "#f7f7f7"
            ],
            [
             0.6,
             "#e6f5d0"
            ],
            [
             0.7,
             "#b8e186"
            ],
            [
             0.8,
             "#7fbc41"
            ],
            [
             0.9,
             "#4d9221"
            ],
            [
             1,
             "#276419"
            ]
           ],
           "sequential": [
            [
             0,
             "#0d0887"
            ],
            [
             0.1111111111111111,
             "#46039f"
            ],
            [
             0.2222222222222222,
             "#7201a8"
            ],
            [
             0.3333333333333333,
             "#9c179e"
            ],
            [
             0.4444444444444444,
             "#bd3786"
            ],
            [
             0.5555555555555556,
             "#d8576b"
            ],
            [
             0.6666666666666666,
             "#ed7953"
            ],
            [
             0.7777777777777778,
             "#fb9f3a"
            ],
            [
             0.8888888888888888,
             "#fdca26"
            ],
            [
             1,
             "#f0f921"
            ]
           ],
           "sequentialminus": [
            [
             0,
             "#0d0887"
            ],
            [
             0.1111111111111111,
             "#46039f"
            ],
            [
             0.2222222222222222,
             "#7201a8"
            ],
            [
             0.3333333333333333,
             "#9c179e"
            ],
            [
             0.4444444444444444,
             "#bd3786"
            ],
            [
             0.5555555555555556,
             "#d8576b"
            ],
            [
             0.6666666666666666,
             "#ed7953"
            ],
            [
             0.7777777777777778,
             "#fb9f3a"
            ],
            [
             0.8888888888888888,
             "#fdca26"
            ],
            [
             1,
             "#f0f921"
            ]
           ]
          },
          "colorway": [
           "#636efa",
           "#EF553B",
           "#00cc96",
           "#ab63fa",
           "#FFA15A",
           "#19d3f3",
           "#FF6692",
           "#B6E880",
           "#FF97FF",
           "#FECB52"
          ],
          "font": {
           "color": "#2a3f5f"
          },
          "geo": {
           "bgcolor": "white",
           "lakecolor": "white",
           "landcolor": "white",
           "showlakes": true,
           "showland": true,
           "subunitcolor": "#C8D4E3"
          },
          "hoverlabel": {
           "align": "left"
          },
          "hovermode": "closest",
          "mapbox": {
           "style": "light"
          },
          "paper_bgcolor": "white",
          "plot_bgcolor": "white",
          "polar": {
           "angularaxis": {
            "gridcolor": "#EBF0F8",
            "linecolor": "#EBF0F8",
            "ticks": ""
           },
           "bgcolor": "white",
           "radialaxis": {
            "gridcolor": "#EBF0F8",
            "linecolor": "#EBF0F8",
            "ticks": ""
           }
          },
          "scene": {
           "xaxis": {
            "backgroundcolor": "white",
            "gridcolor": "#DFE8F3",
            "gridwidth": 2,
            "linecolor": "#EBF0F8",
            "showbackground": true,
            "ticks": "",
            "zerolinecolor": "#EBF0F8"
           },
           "yaxis": {
            "backgroundcolor": "white",
            "gridcolor": "#DFE8F3",
            "gridwidth": 2,
            "linecolor": "#EBF0F8",
            "showbackground": true,
            "ticks": "",
            "zerolinecolor": "#EBF0F8"
           },
           "zaxis": {
            "backgroundcolor": "white",
            "gridcolor": "#DFE8F3",
            "gridwidth": 2,
            "linecolor": "#EBF0F8",
            "showbackground": true,
            "ticks": "",
            "zerolinecolor": "#EBF0F8"
           }
          },
          "shapedefaults": {
           "line": {
            "color": "#2a3f5f"
           }
          },
          "ternary": {
           "aaxis": {
            "gridcolor": "#DFE8F3",
            "linecolor": "#A2B1C6",
            "ticks": ""
           },
           "baxis": {
            "gridcolor": "#DFE8F3",
            "linecolor": "#A2B1C6",
            "ticks": ""
           },
           "bgcolor": "white",
           "caxis": {
            "gridcolor": "#DFE8F3",
            "linecolor": "#A2B1C6",
            "ticks": ""
           }
          },
          "title": {
           "x": 0.05
          },
          "xaxis": {
           "automargin": true,
           "gridcolor": "#EBF0F8",
           "linecolor": "#EBF0F8",
           "ticks": "",
           "title": {
            "standoff": 15
           },
           "zerolinecolor": "#EBF0F8",
           "zerolinewidth": 2
          },
          "yaxis": {
           "automargin": true,
           "gridcolor": "#EBF0F8",
           "linecolor": "#EBF0F8",
           "ticks": "",
           "title": {
            "standoff": 15
           },
           "zerolinecolor": "#EBF0F8",
           "zerolinewidth": 2
          }
         }
        },
        "title": {
         "x": 0.5
        },
        "width": 1000,
        "xaxis": {
         "anchor": "y",
         "domain": [
          0,
          0.45
         ],
         "title": {
          "text": "Length of Prompt (# of Tokens)"
         }
        },
        "xaxis2": {
         "anchor": "y2",
         "domain": [
          0.55,
          1
         ],
         "title": {
          "text": "Length of Prompt (# of Tokens)"
         }
        },
        "yaxis": {
         "anchor": "x",
         "autorange": "reversed",
         "domain": [
          0,
          1
         ],
         "range": [
          0,
          100
         ],
         "title": {
          "text": "Median Rank out of 98 Prompts"
         }
        },
        "yaxis2": {
         "anchor": "x2",
         "autorange": "reversed",
         "domain": [
          0,
          1
         ],
         "range": [
          0,
          100
         ],
         "title": {
          "text": "Median Rank out of 98 Prompts"
         }
        }
       }
      },
      "text/html": [
       "<div>                            <div id=\"835deb03-8526-4cb0-9ff7-b1c4bd784dc0\" class=\"plotly-graph-div\" style=\"height:600px; width:1000px;\"></div>            <script type=\"text/javascript\">                require([\"plotly\"], function(Plotly) {                    window.PLOTLYENV=window.PLOTLYENV || {};                                    if (document.getElementById(\"835deb03-8526-4cb0-9ff7-b1c4bd784dc0\")) {                    Plotly.newPlot(                        \"835deb03-8526-4cb0-9ff7-b1c4bd784dc0\",                        [{\"mode\":\"markers\",\"showlegend\":false,\"x\":[10.0,9.0,20.0,14.0,8.0,13.0,7.0,12.0,13.0,42.0,16.0,11.0,20.0,40.0,20.0,9.0,43.0,10.0,6.0,10.0,12.0,18.0,2.0,2.0,14.0,22.0,17.0,13.0,11.0,24.0,12.0,39.0,18.0,11.0,33.0,17.0,11.0,17.0,24.0,6.0,9.0,25.0,4.0,17.0,31.0,25.0,28.0,0.0,10.0,52.0,23.0,9.0,0.0,10.0,10.0,0.0,21.0,15.0,23.0,40.0,16.0,53.0,19.0,21.0,23.0,11.0,9.0,8.0,17.0,0.0,11.0,2.0,12.0,14.0,37.0,11.0,0.0,24.0,2.0,28.0,0.0,2.0,8.0,13.0,13.0,0.0,8.0,6.0,14.0,20.0],\"y\":[49.5,23.0,59.5,15.0,31.5,22.0,35.0,11.5,60.5,87.5,77.5,51.5,21.5,62.5,42.0,73.5,84.25,66.0,48.5,50.0,22.0,40.0,75.5,33.0,69.0,36.0,49.0,60.0,76.0,66.0,43.0,81.75,54.0,60.5,15.0,12.5,34.0,62.5,27.5,21.0,68.5,78.5,42.0,16.5,32.5,73.5,32.5,52.5,60.5,81.5,28.5,88.75,21.5,17.5,70.25,62.75,55.75,12.0,24.5,59.5,38.0,70.5,13.0,22.0,37.0,32.0,53.5,74.5,16.75,55.25,34.5,35.75,36.5,36.5,82.25,66.0,68.0,50.0,33.25,66.0,86.0,53.0,11.0,30.0,74.5,44.5,16.5,25.0,9.0,18.5],\"type\":\"scatter\",\"xaxis\":\"x2\",\"yaxis\":\"y2\"},{\"mode\":\"markers\",\"showlegend\":false,\"x\":[10.0,9.0,20.0,14.0,8.0,13.0,7.0,12.0,13.0,42.0,16.0,11.0,20.0,40.0,20.0,9.0,43.0,10.0,6.0,10.0,12.0,18.0,2.0,2.0,14.0,22.0,17.0,13.0,11.0,24.0,12.0,39.0,18.0,11.0,33.0,17.0,11.0,17.0,24.0,6.0,9.0,25.0,4.0,17.0,31.0,25.0,28.0,0.0,10.0,52.0,23.0,9.0,0.0,10.0,10.0,0.0,21.0,15.0,23.0,40.0,16.0,53.0,19.0,21.0,23.0,11.0,9.0,8.0,17.0,0.0,11.0,2.0,12.0,14.0,37.0,11.0,0.0,24.0,2.0,28.0,0.0,2.0,8.0,13.0,13.0,0.0,8.0,6.0,14.0,20.0],\"y\":[48.25,28.25,73.5,27.5,34.75,36.0,26.25,14.0,69.75,62.75,72.0,56.25,17.5,62.75,39.25,77.25,84.75,52.25,48.0,55.5,22.25,28.5,47.5,28.75,63.5,45.25,53.25,54.5,65.25,65.25,47.0,63.5,50.25,60.75,12.75,16.75,34.25,66.5,36.0,19.25,67.25,59.75,54.25,22.25,35.0,55.25,42.0,49.0,56.5,78.75,23.5,77.0,29.5,24.5,74.5,32.0,45.75,14.0,17.25,62.5,39.75,77.25,16.0,32.25,60.5,34.75,58.0,63.0,19.5,64.75,16.25,35.25,42.5,42.25,75.75,56.0,58.25,44.75,37.25,50.25,52.0,46.5,16.75,34.0,54.25,52.25,17.75,29.0,9.75,24.5],\"type\":\"scatter\",\"xaxis\":\"x\",\"yaxis\":\"y\"}],                        {\"template\":{\"data\":{\"barpolar\":[{\"marker\":{\"line\":{\"color\":\"white\",\"width\":0.5},\"pattern\":{\"fillmode\":\"overlay\",\"size\":10,\"solidity\":0.2}},\"type\":\"barpolar\"}],\"bar\":[{\"error_x\":{\"color\":\"#2a3f5f\"},\"error_y\":{\"color\":\"#2a3f5f\"},\"marker\":{\"line\":{\"color\":\"white\",\"width\":0.5},\"pattern\":{\"fillmode\":\"overlay\",\"size\":10,\"solidity\":0.2}},\"type\":\"bar\"}],\"carpet\":[{\"aaxis\":{\"endlinecolor\":\"#2a3f5f\",\"gridcolor\":\"#C8D4E3\",\"linecolor\":\"#C8D4E3\",\"minorgridcolor\":\"#C8D4E3\",\"startlinecolor\":\"#2a3f5f\"},\"baxis\":{\"endlinecolor\":\"#2a3f5f\",\"gridcolor\":\"#C8D4E3\",\"linecolor\":\"#C8D4E3\",\"minorgridcolor\":\"#C8D4E3\",\"startlinecolor\":\"#2a3f5f\"},\"type\":\"carpet\"}],\"choropleth\":[{\"colorbar\":{\"outlinewidth\":0,\"ticks\":\"\"},\"type\":\"choropleth\"}],\"contourcarpet\":[{\"colorbar\":{\"outlinewidth\":0,\"ticks\":\"\"},\"type\":\"contourcarpet\"}],\"contour\":[{\"colorbar\":{\"outlinewidth\":0,\"ticks\":\"\"},\"colorscale\":[[0.0,\"#0d0887\"],[0.1111111111111111,\"#46039f\"],[0.2222222222222222,\"#7201a8\"],[0.3333333333333333,\"#9c179e\"],[0.4444444444444444,\"#bd3786\"],[0.5555555555555556,\"#d8576b\"],[0.6666666666666666,\"#ed7953\"],[0.7777777777777778,\"#fb9f3a\"],[0.8888888888888888,\"#fdca26\"],[1.0,\"#f0f921\"]],\"type\":\"contour\"}],\"heatmapgl\":[{\"colorbar\":{\"outlinewidth\":0,\"ticks\":\"\"},\"colorscale\":[[0.0,\"#0d0887\"],[0.1111111111111111,\"#46039f\"],[0.2222222222222222,\"#7201a8\"],[0.3333333333333333,\"#9c179e\"],[0.4444444444444444,\"#bd3786\"],[0.5555555555555556,\"#d8576b\"],[0.6666666666666666,\"#ed7953\"],[0.7777777777777778,\"#fb9f3a\"],[0.8888888888888888,\"#fdca26\"],[1.0,\"#f0f921\"]],\"type\":\"heatmapgl\"}],\"heatmap\":[{\"colorbar\":{\"outlinewidth\":0,\"ticks\":\"\"},\"colorscale\":[[0.0,\"#0d0887\"],[0.1111111111111111,\"#46039f\"],[0.2222222222222222,\"#7201a8\"],[0.3333333333333333,\"#9c179e\"],[0.4444444444444444,\"#bd3786\"],[0.5555555555555556,\"#d8576b\"],[0.6666666666666666,\"#ed7953\"],[0.7777777777777778,\"#fb9f3a\"],[0.8888888888888888,\"#fdca26\"],[1.0,\"#f0f921\"]],\"type\":\"heatmap\"}],\"histogram2dcontour\":[{\"colorbar\":{\"outlinewidth\":0,\"ticks\":\"\"},\"colorscale\":[[0.0,\"#0d0887\"],[0.1111111111111111,\"#46039f\"],[0.2222222222222222,\"#7201a8\"],[0.3333333333333333,\"#9c179e\"],[0.4444444444444444,\"#bd3786\"],[0.5555555555555556,\"#d8576b\"],[0.6666666666666666,\"#ed7953\"],[0.7777777777777778,\"#fb9f3a\"],[0.8888888888888888,\"#fdca26\"],[1.0,\"#f0f921\"]],\"type\":\"histogram2dcontour\"}],\"histogram2d\":[{\"colorbar\":{\"outlinewidth\":0,\"ticks\":\"\"},\"colorscale\":[[0.0,\"#0d0887\"],[0.1111111111111111,\"#46039f\"],[0.2222222222222222,\"#7201a8\"],[0.3333333333333333,\"#9c179e\"],[0.4444444444444444,\"#bd3786\"],[0.5555555555555556,\"#d8576b\"],[0.6666666666666666,\"#ed7953\"],[0.7777777777777778,\"#fb9f3a\"],[0.8888888888888888,\"#fdca26\"],[1.0,\"#f0f921\"]],\"type\":\"histogram2d\"}],\"histogram\":[{\"marker\":{\"pattern\":{\"fillmode\":\"overlay\",\"size\":10,\"solidity\":0.2}},\"type\":\"histogram\"}],\"mesh3d\":[{\"colorbar\":{\"outlinewidth\":0,\"ticks\":\"\"},\"type\":\"mesh3d\"}],\"parcoords\":[{\"line\":{\"colorbar\":{\"outlinewidth\":0,\"ticks\":\"\"}},\"type\":\"parcoords\"}],\"pie\":[{\"automargin\":true,\"type\":\"pie\"}],\"scatter3d\":[{\"line\":{\"colorbar\":{\"outlinewidth\":0,\"ticks\":\"\"}},\"marker\":{\"colorbar\":{\"outlinewidth\":0,\"ticks\":\"\"}},\"type\":\"scatter3d\"}],\"scattercarpet\":[{\"marker\":{\"colorbar\":{\"outlinewidth\":0,\"ticks\":\"\"}},\"type\":\"scattercarpet\"}],\"scattergeo\":[{\"marker\":{\"colorbar\":{\"outlinewidth\":0,\"ticks\":\"\"}},\"type\":\"scattergeo\"}],\"scattergl\":[{\"marker\":{\"colorbar\":{\"outlinewidth\":0,\"ticks\":\"\"}},\"type\":\"scattergl\"}],\"scattermapbox\":[{\"marker\":{\"colorbar\":{\"outlinewidth\":0,\"ticks\":\"\"}},\"type\":\"scattermapbox\"}],\"scatterpolargl\":[{\"marker\":{\"colorbar\":{\"outlinewidth\":0,\"ticks\":\"\"}},\"type\":\"scatterpolargl\"}],\"scatterpolar\":[{\"marker\":{\"colorbar\":{\"outlinewidth\":0,\"ticks\":\"\"}},\"type\":\"scatterpolar\"}],\"scatter\":[{\"marker\":{\"colorbar\":{\"outlinewidth\":0,\"ticks\":\"\"}},\"type\":\"scatter\"}],\"scatterternary\":[{\"marker\":{\"colorbar\":{\"outlinewidth\":0,\"ticks\":\"\"}},\"type\":\"scatterternary\"}],\"surface\":[{\"colorbar\":{\"outlinewidth\":0,\"ticks\":\"\"},\"colorscale\":[[0.0,\"#0d0887\"],[0.1111111111111111,\"#46039f\"],[0.2222222222222222,\"#7201a8\"],[0.3333333333333333,\"#9c179e\"],[0.4444444444444444,\"#bd3786\"],[0.5555555555555556,\"#d8576b\"],[0.6666666666666666,\"#ed7953\"],[0.7777777777777778,\"#fb9f3a\"],[0.8888888888888888,\"#fdca26\"],[1.0,\"#f0f921\"]],\"type\":\"surface\"}],\"table\":[{\"cells\":{\"fill\":{\"color\":\"#EBF0F8\"},\"line\":{\"color\":\"white\"}},\"header\":{\"fill\":{\"color\":\"#C8D4E3\"},\"line\":{\"color\":\"white\"}},\"type\":\"table\"}]},\"layout\":{\"annotationdefaults\":{\"arrowcolor\":\"#2a3f5f\",\"arrowhead\":0,\"arrowwidth\":1},\"autotypenumbers\":\"strict\",\"coloraxis\":{\"colorbar\":{\"outlinewidth\":0,\"ticks\":\"\"}},\"colorscale\":{\"diverging\":[[0,\"#8e0152\"],[0.1,\"#c51b7d\"],[0.2,\"#de77ae\"],[0.3,\"#f1b6da\"],[0.4,\"#fde0ef\"],[0.5,\"#f7f7f7\"],[0.6,\"#e6f5d0\"],[0.7,\"#b8e186\"],[0.8,\"#7fbc41\"],[0.9,\"#4d9221\"],[1,\"#276419\"]],\"sequential\":[[0.0,\"#0d0887\"],[0.1111111111111111,\"#46039f\"],[0.2222222222222222,\"#7201a8\"],[0.3333333333333333,\"#9c179e\"],[0.4444444444444444,\"#bd3786\"],[0.5555555555555556,\"#d8576b\"],[0.6666666666666666,\"#ed7953\"],[0.7777777777777778,\"#fb9f3a\"],[0.8888888888888888,\"#fdca26\"],[1.0,\"#f0f921\"]],\"sequentialminus\":[[0.0,\"#0d0887\"],[0.1111111111111111,\"#46039f\"],[0.2222222222222222,\"#7201a8\"],[0.3333333333333333,\"#9c179e\"],[0.4444444444444444,\"#bd3786\"],[0.5555555555555556,\"#d8576b\"],[0.6666666666666666,\"#ed7953\"],[0.7777777777777778,\"#fb9f3a\"],[0.8888888888888888,\"#fdca26\"],[1.0,\"#f0f921\"]]},\"colorway\":[\"#636efa\",\"#EF553B\",\"#00cc96\",\"#ab63fa\",\"#FFA15A\",\"#19d3f3\",\"#FF6692\",\"#B6E880\",\"#FF97FF\",\"#FECB52\"],\"font\":{\"color\":\"#2a3f5f\"},\"geo\":{\"bgcolor\":\"white\",\"lakecolor\":\"white\",\"landcolor\":\"white\",\"showlakes\":true,\"showland\":true,\"subunitcolor\":\"#C8D4E3\"},\"hoverlabel\":{\"align\":\"left\"},\"hovermode\":\"closest\",\"mapbox\":{\"style\":\"light\"},\"paper_bgcolor\":\"white\",\"plot_bgcolor\":\"white\",\"polar\":{\"angularaxis\":{\"gridcolor\":\"#EBF0F8\",\"linecolor\":\"#EBF0F8\",\"ticks\":\"\"},\"bgcolor\":\"white\",\"radialaxis\":{\"gridcolor\":\"#EBF0F8\",\"linecolor\":\"#EBF0F8\",\"ticks\":\"\"}},\"scene\":{\"xaxis\":{\"backgroundcolor\":\"white\",\"gridcolor\":\"#DFE8F3\",\"gridwidth\":2,\"linecolor\":\"#EBF0F8\",\"showbackground\":true,\"ticks\":\"\",\"zerolinecolor\":\"#EBF0F8\"},\"yaxis\":{\"backgroundcolor\":\"white\",\"gridcolor\":\"#DFE8F3\",\"gridwidth\":2,\"linecolor\":\"#EBF0F8\",\"showbackground\":true,\"ticks\":\"\",\"zerolinecolor\":\"#EBF0F8\"},\"zaxis\":{\"backgroundcolor\":\"white\",\"gridcolor\":\"#DFE8F3\",\"gridwidth\":2,\"linecolor\":\"#EBF0F8\",\"showbackground\":true,\"ticks\":\"\",\"zerolinecolor\":\"#EBF0F8\"}},\"shapedefaults\":{\"line\":{\"color\":\"#2a3f5f\"}},\"ternary\":{\"aaxis\":{\"gridcolor\":\"#DFE8F3\",\"linecolor\":\"#A2B1C6\",\"ticks\":\"\"},\"baxis\":{\"gridcolor\":\"#DFE8F3\",\"linecolor\":\"#A2B1C6\",\"ticks\":\"\"},\"bgcolor\":\"white\",\"caxis\":{\"gridcolor\":\"#DFE8F3\",\"linecolor\":\"#A2B1C6\",\"ticks\":\"\"}},\"title\":{\"x\":0.05},\"xaxis\":{\"automargin\":true,\"gridcolor\":\"#EBF0F8\",\"linecolor\":\"#EBF0F8\",\"ticks\":\"\",\"title\":{\"standoff\":15},\"zerolinecolor\":\"#EBF0F8\",\"zerolinewidth\":2},\"yaxis\":{\"automargin\":true,\"gridcolor\":\"#EBF0F8\",\"linecolor\":\"#EBF0F8\",\"ticks\":\"\",\"title\":{\"standoff\":15},\"zerolinecolor\":\"#EBF0F8\",\"zerolinewidth\":2}}},\"xaxis\":{\"anchor\":\"y\",\"domain\":[0.0,0.45],\"title\":{\"text\":\"Length of Prompt (# of Tokens)\"}},\"yaxis\":{\"anchor\":\"x\",\"domain\":[0.0,1.0],\"autorange\":\"reversed\",\"title\":{\"text\":\"Median Rank out of 98 Prompts\"},\"range\":[0,100]},\"xaxis2\":{\"anchor\":\"y2\",\"domain\":[0.55,1.0],\"title\":{\"text\":\"Length of Prompt (# of Tokens)\"}},\"yaxis2\":{\"anchor\":\"x2\",\"domain\":[0.0,1.0],\"autorange\":\"reversed\",\"title\":{\"text\":\"Median Rank out of 98 Prompts\"},\"range\":[0,100]},\"annotations\":[{\"font\":{\"size\":16},\"showarrow\":false,\"text\":\"Accuracy\",\"x\":0.225,\"xanchor\":\"center\",\"xref\":\"paper\",\"y\":1.0,\"yanchor\":\"bottom\",\"yref\":\"paper\"},{\"font\":{\"size\":16},\"showarrow\":false,\"text\":\"F1\",\"x\":0.775,\"xanchor\":\"center\",\"xref\":\"paper\",\"y\":1.0,\"yanchor\":\"bottom\",\"yref\":\"paper\"}],\"title\":{\"x\":0.5},\"font\":{\"size\":15},\"legend\":{\"orientation\":\"h\",\"xanchor\":\"center\",\"x\":0.5,\"bgcolor\":\"rgba(0,0,0,0)\"},\"width\":1000,\"height\":600},                        {\"responsive\": true}                    ).then(function(){\n",
       "                            \n",
       "var gd = document.getElementById('835deb03-8526-4cb0-9ff7-b1c4bd784dc0');\n",
       "var x = new MutationObserver(function (mutations, observer) {{\n",
       "        var display = window.getComputedStyle(gd).display;\n",
       "        if (!display || display === 'none') {{\n",
       "            console.log([gd, 'removed!']);\n",
       "            Plotly.purge(gd);\n",
       "            observer.disconnect();\n",
       "        }}\n",
       "}});\n",
       "\n",
       "// Listen for the removal of the full notebook cells\n",
       "var notebookContainer = gd.closest('#notebook-container');\n",
       "if (notebookContainer) {{\n",
       "    x.observe(notebookContainer, {childList: true});\n",
       "}}\n",
       "\n",
       "// Listen for the clearing of the current output cell\n",
       "var outputEl = gd.closest('.output');\n",
       "if (outputEl) {{\n",
       "    x.observe(outputEl, {childList: true});\n",
       "}}\n",
       "\n",
       "                        })                };                });            </script>        </div>"
      ]
     },
     "metadata": {},
     "output_type": "display_data"
    }
   ],
   "source": [
    "\n",
    "task_colors = {'CLASSIFICATION': '#1f77b4',\n",
    " 'COMPLETION': '#ff7f0e',\n",
    " 'ENTAILMENT': '#2ca02c',\n",
    " 'MCQ': '#d62728',\n",
    " 'QA': '#9467bd',\n",
    " 'SENTIMENT': '#8c564b',\n",
    " 'SUMMARIZATION': '#e377c2'}\n",
    "\n",
    "GROUP_NAME_MAPPING = {\n",
    "    \"anli[dev_r1]\"                            : \"ANLI R1\",\n",
    "    \"anli[dev_r2]\"                            : \"ANLI R2\",\n",
    "    \"anli[dev_r3]\"                            : \"ANLI R3\",\n",
    "    \"CommitmentBank[validation]\"              : \"CB\",\n",
    "    \"AQuA[validation]\"                        : \"AQuA\",\n",
    "    \"WordsinContext[validation]\"              : \"WiC\",\n",
    "    \"RecognizingTextualEntailment[validation]\": \"RTE\",\n",
    "    \"craigslist_bargains[validation]\"         : \"Craigslist\",\n",
    "}\n",
    "valid_metrics = ['f1', 'em', 'accuracy']\n",
    "\n",
    "# subplot_count = \n",
    "\n",
    "figure_object = {}\n",
    "\n",
    "inverse_map_names = {v:k for k,v in GROUP_NAME_MAPPING.items()}\n",
    "subplot_titles = sorted(list(inverse_map_names))\n",
    "\n",
    "\n",
    "fig = make_subplots(\n",
    "    1,\n",
    "    2,\n",
    "    subplot_titles=[\"Accuracy\",\"F1\"],\n",
    ")\n",
    "f1_chart = go.Scatter(\n",
    "    x=medians['prompt_tokens'].tolist(),\n",
    "    y=medians['f1_rank'].tolist(),\n",
    "    mode='markers',\n",
    "    showlegend=False\n",
    ")\n",
    "fig.append_trace(f1_chart, row=1, col=2)\n",
    "\n",
    "acc_chart = go.Scatter(\n",
    "    x=medians['prompt_tokens'].tolist(),\n",
    "    y=medians['accuracy_rank'].tolist(),\n",
    "    mode='markers',\n",
    "    showlegend=False\n",
    "    \n",
    ")\n",
    "fig.append_trace(acc_chart, row=1, col=1)\n",
    "fig.update_layout(\n",
    "#                 title=title+\" - \"+met_name,\n",
    "    title_x=0.5,\n",
    "    font=dict(size=15),\n",
    "    template=\"plotly_white\",\n",
    "    legend_orientation='h',\n",
    "    legend=dict(xanchor=\"center\", x=0.5, bgcolor=\"rgba(0,0,0,0)\"),\n",
    "    # yaxis=dict(range=[0,100]),\n",
    "    width=1000,\n",
    "    height=600,\n",
    ")\n",
    "fig['layout']['xaxis']['title']='Length of Prompt (# of Tokens)'\n",
    "fig['layout']['xaxis2']['title']='Length of Prompt (# of Tokens)'\n",
    "fig['layout']['yaxis']['autorange'] = \"reversed\"\n",
    "fig['layout']['yaxis2']['autorange'] = \"reversed\"\n",
    "fig['layout']['yaxis']['title']='Median Rank out of 98 Prompts'\n",
    "fig['layout']['yaxis2']['title']='Median Rank out of 98 Prompts'\n",
    "fig.update_yaxes(range=[0,100])# hide all the xticks\n",
    "fig.write_image(re.sub(' ', '-', 'ranks_graphs.png'))\n",
    "fig.show()\n"
   ]
  },
  {
   "cell_type": "code",
   "execution_count": null,
   "id": "176e131e",
   "metadata": {},
   "outputs": [],
   "source": []
  },
  {
   "cell_type": "code",
   "execution_count": 10,
   "id": "8c07de73",
   "metadata": {
    "scrolled": false
   },
   "outputs": [
    {
     "data": {
      "text/html": [
       "<div>\n",
       "<style scoped>\n",
       "    .dataframe tbody tr th:only-of-type {\n",
       "        vertical-align: middle;\n",
       "    }\n",
       "\n",
       "    .dataframe tbody tr th {\n",
       "        vertical-align: top;\n",
       "    }\n",
       "\n",
       "    .dataframe thead th {\n",
       "        text-align: right;\n",
       "    }\n",
       "</style>\n",
       "<table border=\"1\" class=\"dataframe\">\n",
       "  <thead>\n",
       "    <tr style=\"text-align: right;\">\n",
       "      <th></th>\n",
       "      <th>prompt_name</th>\n",
       "      <th>prompt_task</th>\n",
       "      <th>accuracy_rank</th>\n",
       "      <th>f1_rank</th>\n",
       "      <th>f1</th>\n",
       "      <th>accuracy</th>\n",
       "      <th>prompt_tokens</th>\n",
       "    </tr>\n",
       "  </thead>\n",
       "  <tbody>\n",
       "    <tr>\n",
       "      <th>88</th>\n",
       "      <td>must_be_true</td>\n",
       "      <td>ANLI</td>\n",
       "      <td>9.75</td>\n",
       "      <td>9.00</td>\n",
       "      <td>26.231477</td>\n",
       "      <td>34.575000</td>\n",
       "      <td>14.0</td>\n",
       "    </tr>\n",
       "    <tr>\n",
       "      <th>34</th>\n",
       "      <td>generate_rational_and_correct_choice</td>\n",
       "      <td>AQuA</td>\n",
       "      <td>12.75</td>\n",
       "      <td>15.00</td>\n",
       "      <td>23.992104</td>\n",
       "      <td>36.057956</td>\n",
       "      <td>33.0</td>\n",
       "    </tr>\n",
       "    <tr>\n",
       "      <th>57</th>\n",
       "      <td>based_on_the_previous_passage</td>\n",
       "      <td>ANLI</td>\n",
       "      <td>14.00</td>\n",
       "      <td>12.00</td>\n",
       "      <td>26.759136</td>\n",
       "      <td>36.250000</td>\n",
       "      <td>15.0</td>\n",
       "    </tr>\n",
       "    <tr>\n",
       "      <th>7</th>\n",
       "      <td>select_the_best_option</td>\n",
       "      <td>AQuA</td>\n",
       "      <td>14.00</td>\n",
       "      <td>11.50</td>\n",
       "      <td>26.328158</td>\n",
       "      <td>35.565476</td>\n",
       "      <td>12.0</td>\n",
       "    </tr>\n",
       "    <tr>\n",
       "      <th>62</th>\n",
       "      <td>more_likely</td>\n",
       "      <td>COPA</td>\n",
       "      <td>16.00</td>\n",
       "      <td>13.00</td>\n",
       "      <td>25.478826</td>\n",
       "      <td>34.300000</td>\n",
       "      <td>19.0</td>\n",
       "    </tr>\n",
       "    <tr>\n",
       "      <th>70</th>\n",
       "      <td>Answer_questions_from_options</td>\n",
       "      <td>AQuA</td>\n",
       "      <td>16.25</td>\n",
       "      <td>34.50</td>\n",
       "      <td>25.335470</td>\n",
       "      <td>35.297619</td>\n",
       "      <td>11.0</td>\n",
       "    </tr>\n",
       "    <tr>\n",
       "      <th>82</th>\n",
       "      <td>gre_problem</td>\n",
       "      <td>MathQA</td>\n",
       "      <td>16.75</td>\n",
       "      <td>11.00</td>\n",
       "      <td>24.657357</td>\n",
       "      <td>34.841667</td>\n",
       "      <td>8.0</td>\n",
       "    </tr>\n",
       "    <tr>\n",
       "      <th>35</th>\n",
       "      <td>generate_rationale</td>\n",
       "      <td>AQuA</td>\n",
       "      <td>16.75</td>\n",
       "      <td>12.50</td>\n",
       "      <td>26.184389</td>\n",
       "      <td>34.300000</td>\n",
       "      <td>17.0</td>\n",
       "    </tr>\n",
       "    <tr>\n",
       "      <th>58</th>\n",
       "      <td>does_this_imply</td>\n",
       "      <td>ANLI</td>\n",
       "      <td>17.25</td>\n",
       "      <td>24.50</td>\n",
       "      <td>24.180612</td>\n",
       "      <td>34.100000</td>\n",
       "      <td>23.0</td>\n",
       "    </tr>\n",
       "    <tr>\n",
       "      <th>12</th>\n",
       "      <td>fill_in_the_blank_with_choices_after</td>\n",
       "      <td>NumerSense</td>\n",
       "      <td>17.50</td>\n",
       "      <td>21.50</td>\n",
       "      <td>23.280519</td>\n",
       "      <td>33.715410</td>\n",
       "      <td>20.0</td>\n",
       "    </tr>\n",
       "    <tr>\n",
       "      <th>86</th>\n",
       "      <td>choose</td>\n",
       "      <td>COPA</td>\n",
       "      <td>17.75</td>\n",
       "      <td>16.50</td>\n",
       "      <td>24.285546</td>\n",
       "      <td>34.283333</td>\n",
       "      <td>8.0</td>\n",
       "    </tr>\n",
       "    <tr>\n",
       "      <th>39</th>\n",
       "      <td>Sentiment_with_choices</td>\n",
       "      <td>IMDB</td>\n",
       "      <td>19.25</td>\n",
       "      <td>21.00</td>\n",
       "      <td>23.084523</td>\n",
       "      <td>35.091667</td>\n",
       "      <td>6.0</td>\n",
       "    </tr>\n",
       "    <tr>\n",
       "      <th>68</th>\n",
       "      <td>take_the_following_as_truth</td>\n",
       "      <td>ANLI</td>\n",
       "      <td>19.50</td>\n",
       "      <td>16.75</td>\n",
       "      <td>25.701542</td>\n",
       "      <td>34.475000</td>\n",
       "      <td>17.0</td>\n",
       "    </tr>\n",
       "    <tr>\n",
       "      <th>43</th>\n",
       "      <td>choose_correct_og</td>\n",
       "      <td>MathQA</td>\n",
       "      <td>22.25</td>\n",
       "      <td>16.50</td>\n",
       "      <td>24.736876</td>\n",
       "      <td>33.800000</td>\n",
       "      <td>17.0</td>\n",
       "    </tr>\n",
       "    <tr>\n",
       "      <th>20</th>\n",
       "      <td>guaranteed_true</td>\n",
       "      <td>ANLI</td>\n",
       "      <td>22.25</td>\n",
       "      <td>22.00</td>\n",
       "      <td>26.502845</td>\n",
       "      <td>34.089286</td>\n",
       "      <td>12.0</td>\n",
       "    </tr>\n",
       "    <tr>\n",
       "      <th>50</th>\n",
       "      <td>answer_quiz</td>\n",
       "      <td>AQuA</td>\n",
       "      <td>23.50</td>\n",
       "      <td>28.50</td>\n",
       "      <td>23.563680</td>\n",
       "      <td>34.630952</td>\n",
       "      <td>23.0</td>\n",
       "    </tr>\n",
       "    <tr>\n",
       "      <th>53</th>\n",
       "      <td>pick_the_correct</td>\n",
       "      <td>MathQA</td>\n",
       "      <td>24.50</td>\n",
       "      <td>17.50</td>\n",
       "      <td>24.233952</td>\n",
       "      <td>33.708333</td>\n",
       "      <td>10.0</td>\n",
       "    </tr>\n",
       "    <tr>\n",
       "      <th>89</th>\n",
       "      <td>fill_in_the_blank_with_instruction_and_choices</td>\n",
       "      <td>NumerSense</td>\n",
       "      <td>24.50</td>\n",
       "      <td>18.50</td>\n",
       "      <td>23.325472</td>\n",
       "      <td>34.158333</td>\n",
       "      <td>20.0</td>\n",
       "    </tr>\n",
       "    <tr>\n",
       "      <th>6</th>\n",
       "      <td>so_i_would</td>\n",
       "      <td>Yelp</td>\n",
       "      <td>26.25</td>\n",
       "      <td>35.00</td>\n",
       "      <td>23.530961</td>\n",
       "      <td>34.150000</td>\n",
       "      <td>7.0</td>\n",
       "    </tr>\n",
       "    <tr>\n",
       "      <th>3</th>\n",
       "      <td>choose_correct_variant</td>\n",
       "      <td>MathQA</td>\n",
       "      <td>27.50</td>\n",
       "      <td>15.00</td>\n",
       "      <td>23.570875</td>\n",
       "      <td>33.975000</td>\n",
       "      <td>14.0</td>\n",
       "    </tr>\n",
       "    <tr>\n",
       "      <th>1</th>\n",
       "      <td>mean</td>\n",
       "      <td>RTE</td>\n",
       "      <td>28.25</td>\n",
       "      <td>23.00</td>\n",
       "      <td>25.206323</td>\n",
       "      <td>34.175000</td>\n",
       "      <td>9.0</td>\n",
       "    </tr>\n",
       "    <tr>\n",
       "      <th>21</th>\n",
       "      <td>categorize_rating_using_review</td>\n",
       "      <td>AppReviews</td>\n",
       "      <td>28.50</td>\n",
       "      <td>40.00</td>\n",
       "      <td>24.439884</td>\n",
       "      <td>33.675000</td>\n",
       "      <td>18.0</td>\n",
       "    </tr>\n",
       "    <tr>\n",
       "      <th>23</th>\n",
       "      <td>classification_choices_and_answer</td>\n",
       "      <td>No Prompt</td>\n",
       "      <td>28.75</td>\n",
       "      <td>33.00</td>\n",
       "      <td>23.160308</td>\n",
       "      <td>34.316667</td>\n",
       "      <td>2.0</td>\n",
       "    </tr>\n",
       "    <tr>\n",
       "      <th>87</th>\n",
       "      <td>imply_separated</td>\n",
       "      <td>RTE</td>\n",
       "      <td>29.00</td>\n",
       "      <td>25.00</td>\n",
       "      <td>26.047376</td>\n",
       "      <td>34.425000</td>\n",
       "      <td>6.0</td>\n",
       "    </tr>\n",
       "    <tr>\n",
       "      <th>52</th>\n",
       "      <td>classification_choices</td>\n",
       "      <td>No Prompt</td>\n",
       "      <td>29.50</td>\n",
       "      <td>21.50</td>\n",
       "      <td>23.683456</td>\n",
       "      <td>34.366667</td>\n",
       "      <td>0.0</td>\n",
       "    </tr>\n",
       "    <tr>\n",
       "      <th>55</th>\n",
       "      <td>qa_no_choices</td>\n",
       "      <td>No Prompt</td>\n",
       "      <td>32.00</td>\n",
       "      <td>62.75</td>\n",
       "      <td>19.495195</td>\n",
       "      <td>33.650000</td>\n",
       "      <td>0.0</td>\n",
       "    </tr>\n",
       "    <tr>\n",
       "      <th>63</th>\n",
       "      <td>first_choice_then_problem</td>\n",
       "      <td>MathQA</td>\n",
       "      <td>32.25</td>\n",
       "      <td>22.00</td>\n",
       "      <td>23.189596</td>\n",
       "      <td>33.391667</td>\n",
       "      <td>21.0</td>\n",
       "    </tr>\n",
       "    <tr>\n",
       "      <th>83</th>\n",
       "      <td>claim_true_false_inconclusive</td>\n",
       "      <td>ANLI</td>\n",
       "      <td>34.00</td>\n",
       "      <td>30.00</td>\n",
       "      <td>23.205441</td>\n",
       "      <td>33.858333</td>\n",
       "      <td>13.0</td>\n",
       "    </tr>\n",
       "    <tr>\n",
       "      <th>36</th>\n",
       "      <td>question_context_answer</td>\n",
       "      <td>AdversarialQA</td>\n",
       "      <td>34.25</td>\n",
       "      <td>34.00</td>\n",
       "      <td>23.016044</td>\n",
       "      <td>33.000000</td>\n",
       "      <td>11.0</td>\n",
       "    </tr>\n",
       "    <tr>\n",
       "      <th>65</th>\n",
       "      <td>justified_in_saying</td>\n",
       "      <td>ANLI</td>\n",
       "      <td>34.75</td>\n",
       "      <td>32.00</td>\n",
       "      <td>24.083186</td>\n",
       "      <td>34.625000</td>\n",
       "      <td>11.0</td>\n",
       "    </tr>\n",
       "    <tr>\n",
       "      <th>4</th>\n",
       "      <td>sentiment</td>\n",
       "      <td>FinNews</td>\n",
       "      <td>34.75</td>\n",
       "      <td>31.50</td>\n",
       "      <td>24.384978</td>\n",
       "      <td>32.250000</td>\n",
       "      <td>8.0</td>\n",
       "    </tr>\n",
       "    <tr>\n",
       "      <th>44</th>\n",
       "      <td>ask_question_as_kid</td>\n",
       "      <td>ZEST</td>\n",
       "      <td>35.00</td>\n",
       "      <td>32.50</td>\n",
       "      <td>24.456032</td>\n",
       "      <td>33.308333</td>\n",
       "      <td>31.0</td>\n",
       "    </tr>\n",
       "    <tr>\n",
       "      <th>71</th>\n",
       "      <td>entailment_choices_and_answer</td>\n",
       "      <td>No Prompt</td>\n",
       "      <td>35.25</td>\n",
       "      <td>35.75</td>\n",
       "      <td>24.923288</td>\n",
       "      <td>33.400000</td>\n",
       "      <td>2.0</td>\n",
       "    </tr>\n",
       "    <tr>\n",
       "      <th>5</th>\n",
       "      <td>exercise</td>\n",
       "      <td>COPA</td>\n",
       "      <td>36.00</td>\n",
       "      <td>22.00</td>\n",
       "      <td>23.228297</td>\n",
       "      <td>33.475000</td>\n",
       "      <td>13.0</td>\n",
       "    </tr>\n",
       "    <tr>\n",
       "      <th>38</th>\n",
       "      <td>fill_in_the_blank_with_choices_before</td>\n",
       "      <td>NumerSense</td>\n",
       "      <td>36.00</td>\n",
       "      <td>27.50</td>\n",
       "      <td>24.058347</td>\n",
       "      <td>32.983333</td>\n",
       "      <td>24.0</td>\n",
       "    </tr>\n",
       "    <tr>\n",
       "      <th>78</th>\n",
       "      <td>classification_no_choices_and_answer</td>\n",
       "      <td>No Prompt</td>\n",
       "      <td>37.25</td>\n",
       "      <td>33.25</td>\n",
       "      <td>24.201635</td>\n",
       "      <td>33.216667</td>\n",
       "      <td>2.0</td>\n",
       "    </tr>\n",
       "    <tr>\n",
       "      <th>14</th>\n",
       "      <td>answerable_or_not</td>\n",
       "      <td>ZEST</td>\n",
       "      <td>39.25</td>\n",
       "      <td>42.00</td>\n",
       "      <td>21.839816</td>\n",
       "      <td>32.650000</td>\n",
       "      <td>20.0</td>\n",
       "    </tr>\n",
       "    <tr>\n",
       "      <th>60</th>\n",
       "      <td>based_on</td>\n",
       "      <td>AdversarialQA</td>\n",
       "      <td>39.75</td>\n",
       "      <td>38.00</td>\n",
       "      <td>22.155866</td>\n",
       "      <td>33.150000</td>\n",
       "      <td>16.0</td>\n",
       "    </tr>\n",
       "    <tr>\n",
       "      <th>46</th>\n",
       "      <td>gpt3_instruct_format</td>\n",
       "      <td>ZEST</td>\n",
       "      <td>42.00</td>\n",
       "      <td>32.50</td>\n",
       "      <td>22.735401</td>\n",
       "      <td>33.208333</td>\n",
       "      <td>28.0</td>\n",
       "    </tr>\n",
       "    <tr>\n",
       "      <th>73</th>\n",
       "      <td>imply</td>\n",
       "      <td>RTE</td>\n",
       "      <td>42.25</td>\n",
       "      <td>36.50</td>\n",
       "      <td>22.168876</td>\n",
       "      <td>33.391667</td>\n",
       "      <td>14.0</td>\n",
       "    </tr>\n",
       "    <tr>\n",
       "      <th>72</th>\n",
       "      <td>can_we_infer</td>\n",
       "      <td>ANLI</td>\n",
       "      <td>42.50</td>\n",
       "      <td>36.50</td>\n",
       "      <td>26.130233</td>\n",
       "      <td>33.794179</td>\n",
       "      <td>12.0</td>\n",
       "    </tr>\n",
       "    <tr>\n",
       "      <th>77</th>\n",
       "      <td>ask_question_as_teacher</td>\n",
       "      <td>ZEST</td>\n",
       "      <td>44.75</td>\n",
       "      <td>50.00</td>\n",
       "      <td>21.255429</td>\n",
       "      <td>32.666667</td>\n",
       "      <td>24.0</td>\n",
       "    </tr>\n",
       "    <tr>\n",
       "      <th>25</th>\n",
       "      <td>tell_what_it_is</td>\n",
       "      <td>AdversarialQA</td>\n",
       "      <td>45.25</td>\n",
       "      <td>36.00</td>\n",
       "      <td>22.150319</td>\n",
       "      <td>32.900000</td>\n",
       "      <td>22.0</td>\n",
       "    </tr>\n",
       "    <tr>\n",
       "      <th>56</th>\n",
       "      <td>read_below_DOC_write_abstract</td>\n",
       "      <td>XSum</td>\n",
       "      <td>45.75</td>\n",
       "      <td>55.75</td>\n",
       "      <td>19.529244</td>\n",
       "      <td>33.091667</td>\n",
       "      <td>21.0</td>\n",
       "    </tr>\n",
       "    <tr>\n",
       "      <th>81</th>\n",
       "      <td>entailment_no_choices_and_answer</td>\n",
       "      <td>No Prompt</td>\n",
       "      <td>46.50</td>\n",
       "      <td>53.00</td>\n",
       "      <td>21.471335</td>\n",
       "      <td>33.075000</td>\n",
       "      <td>2.0</td>\n",
       "    </tr>\n",
       "    <tr>\n",
       "      <th>30</th>\n",
       "      <td>format_score</td>\n",
       "      <td>Yelp</td>\n",
       "      <td>47.00</td>\n",
       "      <td>43.00</td>\n",
       "      <td>24.156195</td>\n",
       "      <td>32.116667</td>\n",
       "      <td>12.0</td>\n",
       "    </tr>\n",
       "    <tr>\n",
       "      <th>22</th>\n",
       "      <td>qa_choices_and_answer</td>\n",
       "      <td>No Prompt</td>\n",
       "      <td>47.50</td>\n",
       "      <td>75.50</td>\n",
       "      <td>17.524960</td>\n",
       "      <td>33.975000</td>\n",
       "      <td>2.0</td>\n",
       "    </tr>\n",
       "    <tr>\n",
       "      <th>18</th>\n",
       "      <td>format_star</td>\n",
       "      <td>Yelp</td>\n",
       "      <td>48.00</td>\n",
       "      <td>48.50</td>\n",
       "      <td>21.727820</td>\n",
       "      <td>32.000000</td>\n",
       "      <td>6.0</td>\n",
       "    </tr>\n",
       "    <tr>\n",
       "      <th>0</th>\n",
       "      <td>Movie_Expressed_Sentiment_2</td>\n",
       "      <td>IMDB</td>\n",
       "      <td>48.25</td>\n",
       "      <td>49.50</td>\n",
       "      <td>23.498073</td>\n",
       "      <td>32.800000</td>\n",
       "      <td>10.0</td>\n",
       "    </tr>\n",
       "    <tr>\n",
       "      <th>47</th>\n",
       "      <td>classification_no_choices</td>\n",
       "      <td>No Prompt</td>\n",
       "      <td>49.00</td>\n",
       "      <td>52.50</td>\n",
       "      <td>22.535898</td>\n",
       "      <td>32.900000</td>\n",
       "      <td>0.0</td>\n",
       "    </tr>\n",
       "    <tr>\n",
       "      <th>32</th>\n",
       "      <td>does_the_claim_follow_the_fact</td>\n",
       "      <td>RTE</td>\n",
       "      <td>50.25</td>\n",
       "      <td>54.00</td>\n",
       "      <td>18.814227</td>\n",
       "      <td>33.041667</td>\n",
       "      <td>18.0</td>\n",
       "    </tr>\n",
       "    <tr>\n",
       "      <th>79</th>\n",
       "      <td>convert_to_rating</td>\n",
       "      <td>AppReviews</td>\n",
       "      <td>50.25</td>\n",
       "      <td>66.00</td>\n",
       "      <td>21.575663</td>\n",
       "      <td>33.050000</td>\n",
       "      <td>28.0</td>\n",
       "    </tr>\n",
       "    <tr>\n",
       "      <th>80</th>\n",
       "      <td>qa_choices</td>\n",
       "      <td>No Prompt</td>\n",
       "      <td>52.00</td>\n",
       "      <td>86.00</td>\n",
       "      <td>17.381291</td>\n",
       "      <td>33.825000</td>\n",
       "      <td>0.0</td>\n",
       "    </tr>\n",
       "    <tr>\n",
       "      <th>85</th>\n",
       "      <td>qa_no_choices_and_answer</td>\n",
       "      <td>No Prompt</td>\n",
       "      <td>52.25</td>\n",
       "      <td>44.50</td>\n",
       "      <td>22.340396</td>\n",
       "      <td>32.758333</td>\n",
       "      <td>0.0</td>\n",
       "    </tr>\n",
       "    <tr>\n",
       "      <th>17</th>\n",
       "      <td>based_on_that</td>\n",
       "      <td>Yelp</td>\n",
       "      <td>52.25</td>\n",
       "      <td>66.00</td>\n",
       "      <td>17.732256</td>\n",
       "      <td>32.550000</td>\n",
       "      <td>10.0</td>\n",
       "    </tr>\n",
       "    <tr>\n",
       "      <th>26</th>\n",
       "      <td>abstract_relatedwork</td>\n",
       "      <td>Multi-XSci</td>\n",
       "      <td>53.25</td>\n",
       "      <td>49.00</td>\n",
       "      <td>20.921041</td>\n",
       "      <td>32.916667</td>\n",
       "      <td>17.0</td>\n",
       "    </tr>\n",
       "    <tr>\n",
       "      <th>42</th>\n",
       "      <td>GPT_3_style</td>\n",
       "      <td>ANLI</td>\n",
       "      <td>54.25</td>\n",
       "      <td>42.00</td>\n",
       "      <td>23.458354</td>\n",
       "      <td>32.675000</td>\n",
       "      <td>4.0</td>\n",
       "    </tr>\n",
       "    <tr>\n",
       "      <th>84</th>\n",
       "      <td>sentence_to_concepts</td>\n",
       "      <td>CommonGen</td>\n",
       "      <td>54.25</td>\n",
       "      <td>74.50</td>\n",
       "      <td>18.472847</td>\n",
       "      <td>33.033333</td>\n",
       "      <td>13.0</td>\n",
       "    </tr>\n",
       "    <tr>\n",
       "      <th>27</th>\n",
       "      <td>DOC_how_would_you_rephrase_few_words</td>\n",
       "      <td>XSum</td>\n",
       "      <td>54.50</td>\n",
       "      <td>60.00</td>\n",
       "      <td>18.648236</td>\n",
       "      <td>32.683333</td>\n",
       "      <td>13.0</td>\n",
       "    </tr>\n",
       "    <tr>\n",
       "      <th>45</th>\n",
       "      <td>affirmation_true_or_false</td>\n",
       "      <td>WiC</td>\n",
       "      <td>55.25</td>\n",
       "      <td>73.50</td>\n",
       "      <td>20.469634</td>\n",
       "      <td>32.441667</td>\n",
       "      <td>25.0</td>\n",
       "    </tr>\n",
       "    <tr>\n",
       "      <th>19</th>\n",
       "      <td>ref_relatedwork</td>\n",
       "      <td>Multi-XSci</td>\n",
       "      <td>55.50</td>\n",
       "      <td>50.00</td>\n",
       "      <td>19.200299</td>\n",
       "      <td>32.625000</td>\n",
       "      <td>10.0</td>\n",
       "    </tr>\n",
       "    <tr>\n",
       "      <th>75</th>\n",
       "      <td>fill_in_the_blank_before_sentence</td>\n",
       "      <td>NumerSense</td>\n",
       "      <td>56.00</td>\n",
       "      <td>66.00</td>\n",
       "      <td>17.681370</td>\n",
       "      <td>32.600000</td>\n",
       "      <td>11.0</td>\n",
       "    </tr>\n",
       "    <tr>\n",
       "      <th>11</th>\n",
       "      <td>ellipses</td>\n",
       "      <td>LAMBADA</td>\n",
       "      <td>56.25</td>\n",
       "      <td>51.50</td>\n",
       "      <td>20.772691</td>\n",
       "      <td>32.008333</td>\n",
       "      <td>11.0</td>\n",
       "    </tr>\n",
       "    <tr>\n",
       "      <th>48</th>\n",
       "      <td>what_comes_next</td>\n",
       "      <td>LAMBADA</td>\n",
       "      <td>56.50</td>\n",
       "      <td>60.50</td>\n",
       "      <td>21.353193</td>\n",
       "      <td>32.683333</td>\n",
       "      <td>10.0</td>\n",
       "    </tr>\n",
       "    <tr>\n",
       "      <th>66</th>\n",
       "      <td>relatedwork_abstract</td>\n",
       "      <td>Multi-XSci</td>\n",
       "      <td>58.00</td>\n",
       "      <td>53.50</td>\n",
       "      <td>21.194539</td>\n",
       "      <td>32.391667</td>\n",
       "      <td>9.0</td>\n",
       "    </tr>\n",
       "    <tr>\n",
       "      <th>76</th>\n",
       "      <td>entailment_no_choices</td>\n",
       "      <td>No Prompt</td>\n",
       "      <td>58.25</td>\n",
       "      <td>68.00</td>\n",
       "      <td>15.502349</td>\n",
       "      <td>33.241667</td>\n",
       "      <td>0.0</td>\n",
       "    </tr>\n",
       "    <tr>\n",
       "      <th>41</th>\n",
       "      <td>grammar_homework</td>\n",
       "      <td>WiC</td>\n",
       "      <td>59.75</td>\n",
       "      <td>78.50</td>\n",
       "      <td>17.235537</td>\n",
       "      <td>32.875000</td>\n",
       "      <td>25.0</td>\n",
       "    </tr>\n",
       "    <tr>\n",
       "      <th>64</th>\n",
       "      <td>answer_the_following_q</td>\n",
       "      <td>AdversarialQA</td>\n",
       "      <td>60.50</td>\n",
       "      <td>37.00</td>\n",
       "      <td>21.839044</td>\n",
       "      <td>32.308333</td>\n",
       "      <td>23.0</td>\n",
       "    </tr>\n",
       "    <tr>\n",
       "      <th>33</th>\n",
       "      <td>GPT_3_style</td>\n",
       "      <td>LAMBADA</td>\n",
       "      <td>60.75</td>\n",
       "      <td>60.50</td>\n",
       "      <td>20.308569</td>\n",
       "      <td>32.450000</td>\n",
       "      <td>11.0</td>\n",
       "    </tr>\n",
       "    <tr>\n",
       "      <th>59</th>\n",
       "      <td>entailment_explained</td>\n",
       "      <td>RTE</td>\n",
       "      <td>62.50</td>\n",
       "      <td>59.50</td>\n",
       "      <td>19.591746</td>\n",
       "      <td>31.700000</td>\n",
       "      <td>40.0</td>\n",
       "    </tr>\n",
       "    <tr>\n",
       "      <th>13</th>\n",
       "      <td>semantic_relations_with_options</td>\n",
       "      <td>SemEval2010</td>\n",
       "      <td>62.75</td>\n",
       "      <td>62.50</td>\n",
       "      <td>19.219008</td>\n",
       "      <td>32.516667</td>\n",
       "      <td>40.0</td>\n",
       "    </tr>\n",
       "    <tr>\n",
       "      <th>9</th>\n",
       "      <td>good_deal_for_seller_no_list_price_implicit</td>\n",
       "      <td>Craigslist</td>\n",
       "      <td>62.75</td>\n",
       "      <td>87.50</td>\n",
       "      <td>15.769473</td>\n",
       "      <td>33.141667</td>\n",
       "      <td>42.0</td>\n",
       "    </tr>\n",
       "    <tr>\n",
       "      <th>67</th>\n",
       "      <td>topics_from_the_sentence</td>\n",
       "      <td>CommonGen</td>\n",
       "      <td>63.00</td>\n",
       "      <td>74.50</td>\n",
       "      <td>18.221620</td>\n",
       "      <td>32.816667</td>\n",
       "      <td>8.0</td>\n",
       "    </tr>\n",
       "    <tr>\n",
       "      <th>24</th>\n",
       "      <td>question_context_meaning</td>\n",
       "      <td>WiC</td>\n",
       "      <td>63.50</td>\n",
       "      <td>69.00</td>\n",
       "      <td>16.637887</td>\n",
       "      <td>32.533333</td>\n",
       "      <td>14.0</td>\n",
       "    </tr>\n",
       "    <tr>\n",
       "      <th>31</th>\n",
       "      <td>fill_in_the_blank_with_instruction</td>\n",
       "      <td>NumerSense</td>\n",
       "      <td>63.50</td>\n",
       "      <td>81.75</td>\n",
       "      <td>14.219741</td>\n",
       "      <td>33.050000</td>\n",
       "      <td>39.0</td>\n",
       "    </tr>\n",
       "    <tr>\n",
       "      <th>69</th>\n",
       "      <td>entailment_choices</td>\n",
       "      <td>No Prompt</td>\n",
       "      <td>64.75</td>\n",
       "      <td>55.25</td>\n",
       "      <td>20.184692</td>\n",
       "      <td>32.508333</td>\n",
       "      <td>0.0</td>\n",
       "    </tr>\n",
       "    <tr>\n",
       "      <th>28</th>\n",
       "      <td>complementary_industries</td>\n",
       "      <td>FinNews</td>\n",
       "      <td>65.25</td>\n",
       "      <td>76.00</td>\n",
       "      <td>16.268491</td>\n",
       "      <td>32.350000</td>\n",
       "      <td>11.0</td>\n",
       "    </tr>\n",
       "    <tr>\n",
       "      <th>29</th>\n",
       "      <td>college_roommate_asked_DOC_so_I_recap</td>\n",
       "      <td>XSum</td>\n",
       "      <td>65.25</td>\n",
       "      <td>66.00</td>\n",
       "      <td>19.026796</td>\n",
       "      <td>32.108333</td>\n",
       "      <td>24.0</td>\n",
       "    </tr>\n",
       "    <tr>\n",
       "      <th>37</th>\n",
       "      <td>semantically_related_nominials_with_options</td>\n",
       "      <td>SemEval2010</td>\n",
       "      <td>66.50</td>\n",
       "      <td>62.50</td>\n",
       "      <td>18.482119</td>\n",
       "      <td>32.041667</td>\n",
       "      <td>17.0</td>\n",
       "    </tr>\n",
       "    <tr>\n",
       "      <th>40</th>\n",
       "      <td>bullish_neutral_bearish</td>\n",
       "      <td>FinNews</td>\n",
       "      <td>67.25</td>\n",
       "      <td>68.50</td>\n",
       "      <td>19.857545</td>\n",
       "      <td>32.300000</td>\n",
       "      <td>9.0</td>\n",
       "    </tr>\n",
       "    <tr>\n",
       "      <th>8</th>\n",
       "      <td>DOC_write_summary_of_above</td>\n",
       "      <td>XSum</td>\n",
       "      <td>69.75</td>\n",
       "      <td>60.50</td>\n",
       "      <td>16.203059</td>\n",
       "      <td>32.233333</td>\n",
       "      <td>13.0</td>\n",
       "    </tr>\n",
       "    <tr>\n",
       "      <th>10</th>\n",
       "      <td>question_context_meaning_with_label</td>\n",
       "      <td>WiC</td>\n",
       "      <td>72.00</td>\n",
       "      <td>77.50</td>\n",
       "      <td>15.855698</td>\n",
       "      <td>32.550000</td>\n",
       "      <td>16.0</td>\n",
       "    </tr>\n",
       "    <tr>\n",
       "      <th>2</th>\n",
       "      <td>share_price_option</td>\n",
       "      <td>FinNews</td>\n",
       "      <td>73.50</td>\n",
       "      <td>59.50</td>\n",
       "      <td>19.842404</td>\n",
       "      <td>31.525000</td>\n",
       "      <td>20.0</td>\n",
       "    </tr>\n",
       "    <tr>\n",
       "      <th>54</th>\n",
       "      <td>Writer_Expressed_Sentiment</td>\n",
       "      <td>IMDB</td>\n",
       "      <td>74.50</td>\n",
       "      <td>70.25</td>\n",
       "      <td>16.460479</td>\n",
       "      <td>31.800000</td>\n",
       "      <td>10.0</td>\n",
       "    </tr>\n",
       "    <tr>\n",
       "      <th>74</th>\n",
       "      <td>semantic_relations_nominials_without_options</td>\n",
       "      <td>SemEval2010</td>\n",
       "      <td>75.75</td>\n",
       "      <td>82.25</td>\n",
       "      <td>16.156293</td>\n",
       "      <td>31.700000</td>\n",
       "      <td>37.0</td>\n",
       "    </tr>\n",
       "    <tr>\n",
       "      <th>51</th>\n",
       "      <td>Reviewer_Sentiment_Feeling</td>\n",
       "      <td>IMDB</td>\n",
       "      <td>77.00</td>\n",
       "      <td>88.75</td>\n",
       "      <td>12.513660</td>\n",
       "      <td>33.041667</td>\n",
       "      <td>9.0</td>\n",
       "    </tr>\n",
       "    <tr>\n",
       "      <th>15</th>\n",
       "      <td>Reviewer_Opinion_bad_good_choices</td>\n",
       "      <td>IMDB</td>\n",
       "      <td>77.25</td>\n",
       "      <td>73.50</td>\n",
       "      <td>15.834179</td>\n",
       "      <td>31.950000</td>\n",
       "      <td>9.0</td>\n",
       "    </tr>\n",
       "    <tr>\n",
       "      <th>61</th>\n",
       "      <td>best_deal</td>\n",
       "      <td>Craigslist</td>\n",
       "      <td>77.25</td>\n",
       "      <td>70.50</td>\n",
       "      <td>22.487812</td>\n",
       "      <td>31.250000</td>\n",
       "      <td>53.0</td>\n",
       "    </tr>\n",
       "    <tr>\n",
       "      <th>49</th>\n",
       "      <td>good_deal_for_seller</td>\n",
       "      <td>Craigslist</td>\n",
       "      <td>78.75</td>\n",
       "      <td>81.50</td>\n",
       "      <td>17.842651</td>\n",
       "      <td>31.100000</td>\n",
       "      <td>52.0</td>\n",
       "    </tr>\n",
       "    <tr>\n",
       "      <th>16</th>\n",
       "      <td>good_deal_for_seller_no_list_price</td>\n",
       "      <td>Craigslist</td>\n",
       "      <td>84.75</td>\n",
       "      <td>84.25</td>\n",
       "      <td>17.829570</td>\n",
       "      <td>31.150000</td>\n",
       "      <td>43.0</td>\n",
       "    </tr>\n",
       "  </tbody>\n",
       "</table>\n",
       "</div>"
      ],
      "text/plain": [
       "                                       prompt_name    prompt_task  accuracy_rank  f1_rank         f1   accuracy  prompt_tokens\n",
       "88                                    must_be_true           ANLI           9.75     9.00  26.231477  34.575000           14.0\n",
       "34            generate_rational_and_correct_choice           AQuA          12.75    15.00  23.992104  36.057956           33.0\n",
       "57                   based_on_the_previous_passage           ANLI          14.00    12.00  26.759136  36.250000           15.0\n",
       "7                           select_the_best_option           AQuA          14.00    11.50  26.328158  35.565476           12.0\n",
       "62                                     more_likely           COPA          16.00    13.00  25.478826  34.300000           19.0\n",
       "70                   Answer_questions_from_options           AQuA          16.25    34.50  25.335470  35.297619           11.0\n",
       "82                                     gre_problem         MathQA          16.75    11.00  24.657357  34.841667            8.0\n",
       "35                              generate_rationale           AQuA          16.75    12.50  26.184389  34.300000           17.0\n",
       "58                                 does_this_imply           ANLI          17.25    24.50  24.180612  34.100000           23.0\n",
       "12            fill_in_the_blank_with_choices_after     NumerSense          17.50    21.50  23.280519  33.715410           20.0\n",
       "86                                          choose           COPA          17.75    16.50  24.285546  34.283333            8.0\n",
       "39                          Sentiment_with_choices           IMDB          19.25    21.00  23.084523  35.091667            6.0\n",
       "68                     take_the_following_as_truth           ANLI          19.50    16.75  25.701542  34.475000           17.0\n",
       "43                               choose_correct_og         MathQA          22.25    16.50  24.736876  33.800000           17.0\n",
       "20                                 guaranteed_true           ANLI          22.25    22.00  26.502845  34.089286           12.0\n",
       "50                                     answer_quiz           AQuA          23.50    28.50  23.563680  34.630952           23.0\n",
       "53                                pick_the_correct         MathQA          24.50    17.50  24.233952  33.708333           10.0\n",
       "89  fill_in_the_blank_with_instruction_and_choices     NumerSense          24.50    18.50  23.325472  34.158333           20.0\n",
       "6                                       so_i_would           Yelp          26.25    35.00  23.530961  34.150000            7.0\n",
       "3                           choose_correct_variant         MathQA          27.50    15.00  23.570875  33.975000           14.0\n",
       "1                                             mean            RTE          28.25    23.00  25.206323  34.175000            9.0\n",
       "21                  categorize_rating_using_review     AppReviews          28.50    40.00  24.439884  33.675000           18.0\n",
       "23               classification_choices_and_answer      No Prompt          28.75    33.00  23.160308  34.316667            2.0\n",
       "87                                 imply_separated            RTE          29.00    25.00  26.047376  34.425000            6.0\n",
       "52                          classification_choices      No Prompt          29.50    21.50  23.683456  34.366667            0.0\n",
       "55                                   qa_no_choices      No Prompt          32.00    62.75  19.495195  33.650000            0.0\n",
       "63                       first_choice_then_problem         MathQA          32.25    22.00  23.189596  33.391667           21.0\n",
       "83                   claim_true_false_inconclusive           ANLI          34.00    30.00  23.205441  33.858333           13.0\n",
       "36                         question_context_answer  AdversarialQA          34.25    34.00  23.016044  33.000000           11.0\n",
       "65                             justified_in_saying           ANLI          34.75    32.00  24.083186  34.625000           11.0\n",
       "4                                        sentiment        FinNews          34.75    31.50  24.384978  32.250000            8.0\n",
       "44                             ask_question_as_kid           ZEST          35.00    32.50  24.456032  33.308333           31.0\n",
       "71                   entailment_choices_and_answer      No Prompt          35.25    35.75  24.923288  33.400000            2.0\n",
       "5                                         exercise           COPA          36.00    22.00  23.228297  33.475000           13.0\n",
       "38           fill_in_the_blank_with_choices_before     NumerSense          36.00    27.50  24.058347  32.983333           24.0\n",
       "78            classification_no_choices_and_answer      No Prompt          37.25    33.25  24.201635  33.216667            2.0\n",
       "14                               answerable_or_not           ZEST          39.25    42.00  21.839816  32.650000           20.0\n",
       "60                                        based_on  AdversarialQA          39.75    38.00  22.155866  33.150000           16.0\n",
       "46                            gpt3_instruct_format           ZEST          42.00    32.50  22.735401  33.208333           28.0\n",
       "73                                           imply            RTE          42.25    36.50  22.168876  33.391667           14.0\n",
       "72                                    can_we_infer           ANLI          42.50    36.50  26.130233  33.794179           12.0\n",
       "77                         ask_question_as_teacher           ZEST          44.75    50.00  21.255429  32.666667           24.0\n",
       "25                                 tell_what_it_is  AdversarialQA          45.25    36.00  22.150319  32.900000           22.0\n",
       "56                   read_below_DOC_write_abstract           XSum          45.75    55.75  19.529244  33.091667           21.0\n",
       "81                entailment_no_choices_and_answer      No Prompt          46.50    53.00  21.471335  33.075000            2.0\n",
       "30                                    format_score           Yelp          47.00    43.00  24.156195  32.116667           12.0\n",
       "22                           qa_choices_and_answer      No Prompt          47.50    75.50  17.524960  33.975000            2.0\n",
       "18                                     format_star           Yelp          48.00    48.50  21.727820  32.000000            6.0\n",
       "0                      Movie_Expressed_Sentiment_2           IMDB          48.25    49.50  23.498073  32.800000           10.0\n",
       "47                       classification_no_choices      No Prompt          49.00    52.50  22.535898  32.900000            0.0\n",
       "32                  does_the_claim_follow_the_fact            RTE          50.25    54.00  18.814227  33.041667           18.0\n",
       "79                               convert_to_rating     AppReviews          50.25    66.00  21.575663  33.050000           28.0\n",
       "80                                      qa_choices      No Prompt          52.00    86.00  17.381291  33.825000            0.0\n",
       "85                        qa_no_choices_and_answer      No Prompt          52.25    44.50  22.340396  32.758333            0.0\n",
       "17                                   based_on_that           Yelp          52.25    66.00  17.732256  32.550000           10.0\n",
       "26                            abstract_relatedwork     Multi-XSci          53.25    49.00  20.921041  32.916667           17.0\n",
       "42                                     GPT_3_style           ANLI          54.25    42.00  23.458354  32.675000            4.0\n",
       "84                            sentence_to_concepts      CommonGen          54.25    74.50  18.472847  33.033333           13.0\n",
       "27            DOC_how_would_you_rephrase_few_words           XSum          54.50    60.00  18.648236  32.683333           13.0\n",
       "45                       affirmation_true_or_false            WiC          55.25    73.50  20.469634  32.441667           25.0\n",
       "19                                 ref_relatedwork     Multi-XSci          55.50    50.00  19.200299  32.625000           10.0\n",
       "75               fill_in_the_blank_before_sentence     NumerSense          56.00    66.00  17.681370  32.600000           11.0\n",
       "11                                        ellipses        LAMBADA          56.25    51.50  20.772691  32.008333           11.0\n",
       "48                                 what_comes_next        LAMBADA          56.50    60.50  21.353193  32.683333           10.0\n",
       "66                            relatedwork_abstract     Multi-XSci          58.00    53.50  21.194539  32.391667            9.0\n",
       "76                           entailment_no_choices      No Prompt          58.25    68.00  15.502349  33.241667            0.0\n",
       "41                                grammar_homework            WiC          59.75    78.50  17.235537  32.875000           25.0\n",
       "64                          answer_the_following_q  AdversarialQA          60.50    37.00  21.839044  32.308333           23.0\n",
       "33                                     GPT_3_style        LAMBADA          60.75    60.50  20.308569  32.450000           11.0\n",
       "59                            entailment_explained            RTE          62.50    59.50  19.591746  31.700000           40.0\n",
       "13                 semantic_relations_with_options    SemEval2010          62.75    62.50  19.219008  32.516667           40.0\n",
       "9      good_deal_for_seller_no_list_price_implicit     Craigslist          62.75    87.50  15.769473  33.141667           42.0\n",
       "67                        topics_from_the_sentence      CommonGen          63.00    74.50  18.221620  32.816667            8.0\n",
       "24                        question_context_meaning            WiC          63.50    69.00  16.637887  32.533333           14.0\n",
       "31              fill_in_the_blank_with_instruction     NumerSense          63.50    81.75  14.219741  33.050000           39.0\n",
       "69                              entailment_choices      No Prompt          64.75    55.25  20.184692  32.508333            0.0\n",
       "28                        complementary_industries        FinNews          65.25    76.00  16.268491  32.350000           11.0\n",
       "29           college_roommate_asked_DOC_so_I_recap           XSum          65.25    66.00  19.026796  32.108333           24.0\n",
       "37     semantically_related_nominials_with_options    SemEval2010          66.50    62.50  18.482119  32.041667           17.0\n",
       "40                         bullish_neutral_bearish        FinNews          67.25    68.50  19.857545  32.300000            9.0\n",
       "8                       DOC_write_summary_of_above           XSum          69.75    60.50  16.203059  32.233333           13.0\n",
       "10             question_context_meaning_with_label            WiC          72.00    77.50  15.855698  32.550000           16.0\n",
       "2                               share_price_option        FinNews          73.50    59.50  19.842404  31.525000           20.0\n",
       "54                      Writer_Expressed_Sentiment           IMDB          74.50    70.25  16.460479  31.800000           10.0\n",
       "74    semantic_relations_nominials_without_options    SemEval2010          75.75    82.25  16.156293  31.700000           37.0\n",
       "51                      Reviewer_Sentiment_Feeling           IMDB          77.00    88.75  12.513660  33.041667            9.0\n",
       "15               Reviewer_Opinion_bad_good_choices           IMDB          77.25    73.50  15.834179  31.950000            9.0\n",
       "61                                       best_deal     Craigslist          77.25    70.50  22.487812  31.250000           53.0\n",
       "49                            good_deal_for_seller     Craigslist          78.75    81.50  17.842651  31.100000           52.0\n",
       "16              good_deal_for_seller_no_list_price     Craigslist          84.75    84.25  17.829570  31.150000           43.0"
      ]
     },
     "execution_count": 10,
     "metadata": {},
     "output_type": "execute_result"
    }
   ],
   "source": [
    "medians.sort_values(by=['accuracy_rank'])[[\"prompt_name\",'prompt_task','accuracy_rank','f1_rank','f1','accuracy','prompt_tokens']]"
   ]
  },
  {
   "cell_type": "code",
   "execution_count": 12,
   "id": "d1f4f832",
   "metadata": {},
   "outputs": [
    {
     "ename": "KeyError",
     "evalue": "'rum_name'",
     "output_type": "error",
     "traceback": [
      "\u001b[0;31m---------------------------------------------------------------------------\u001b[0m",
      "\u001b[0;31mKeyError\u001b[0m                                  Traceback (most recent call last)",
      "\u001b[0;32m~/miniconda3/envs/nlpcourseproject/lib/python3.7/site-packages/pandas/core/indexes/base.py\u001b[0m in \u001b[0;36mget_loc\u001b[0;34m(self, key, method, tolerance)\u001b[0m\n\u001b[1;32m   3360\u001b[0m             \u001b[0;32mtry\u001b[0m\u001b[0;34m:\u001b[0m\u001b[0;34m\u001b[0m\u001b[0;34m\u001b[0m\u001b[0m\n\u001b[0;32m-> 3361\u001b[0;31m                 \u001b[0;32mreturn\u001b[0m \u001b[0mself\u001b[0m\u001b[0;34m.\u001b[0m\u001b[0m_engine\u001b[0m\u001b[0;34m.\u001b[0m\u001b[0mget_loc\u001b[0m\u001b[0;34m(\u001b[0m\u001b[0mcasted_key\u001b[0m\u001b[0;34m)\u001b[0m\u001b[0;34m\u001b[0m\u001b[0;34m\u001b[0m\u001b[0m\n\u001b[0m\u001b[1;32m   3362\u001b[0m             \u001b[0;32mexcept\u001b[0m \u001b[0mKeyError\u001b[0m \u001b[0;32mas\u001b[0m \u001b[0merr\u001b[0m\u001b[0;34m:\u001b[0m\u001b[0;34m\u001b[0m\u001b[0;34m\u001b[0m\u001b[0m\n",
      "\u001b[0;32m~/miniconda3/envs/nlpcourseproject/lib/python3.7/site-packages/pandas/_libs/index.pyx\u001b[0m in \u001b[0;36mpandas._libs.index.IndexEngine.get_loc\u001b[0;34m()\u001b[0m\n",
      "\u001b[0;32m~/miniconda3/envs/nlpcourseproject/lib/python3.7/site-packages/pandas/_libs/index.pyx\u001b[0m in \u001b[0;36mpandas._libs.index.IndexEngine.get_loc\u001b[0;34m()\u001b[0m\n",
      "\u001b[0;32mpandas/_libs/hashtable_class_helper.pxi\u001b[0m in \u001b[0;36mpandas._libs.hashtable.PyObjectHashTable.get_item\u001b[0;34m()\u001b[0m\n",
      "\u001b[0;32mpandas/_libs/hashtable_class_helper.pxi\u001b[0m in \u001b[0;36mpandas._libs.hashtable.PyObjectHashTable.get_item\u001b[0;34m()\u001b[0m\n",
      "\u001b[0;31mKeyError\u001b[0m: 'rum_name'",
      "\nThe above exception was the direct cause of the following exception:\n",
      "\u001b[0;31mKeyError\u001b[0m                                  Traceback (most recent call last)",
      "\u001b[0;32m/tmp/ipykernel_6791/2603374515.py\u001b[0m in \u001b[0;36m<module>\u001b[0;34m\u001b[0m\n\u001b[0;32m----> 1\u001b[0;31m \u001b[0mdata\u001b[0m\u001b[0;34m[\u001b[0m\u001b[0;34m'rum_name'\u001b[0m\u001b[0;34m]\u001b[0m\u001b[0;34m==\u001b[0m\u001b[0;34m'CTNoText'\u001b[0m\u001b[0;34m\u001b[0m\u001b[0;34m\u001b[0m\u001b[0m\n\u001b[0m",
      "\u001b[0;32m~/miniconda3/envs/nlpcourseproject/lib/python3.7/site-packages/pandas/core/frame.py\u001b[0m in \u001b[0;36m__getitem__\u001b[0;34m(self, key)\u001b[0m\n\u001b[1;32m   3456\u001b[0m             \u001b[0;32mif\u001b[0m \u001b[0mself\u001b[0m\u001b[0;34m.\u001b[0m\u001b[0mcolumns\u001b[0m\u001b[0;34m.\u001b[0m\u001b[0mnlevels\u001b[0m \u001b[0;34m>\u001b[0m \u001b[0;36m1\u001b[0m\u001b[0;34m:\u001b[0m\u001b[0;34m\u001b[0m\u001b[0;34m\u001b[0m\u001b[0m\n\u001b[1;32m   3457\u001b[0m                 \u001b[0;32mreturn\u001b[0m \u001b[0mself\u001b[0m\u001b[0;34m.\u001b[0m\u001b[0m_getitem_multilevel\u001b[0m\u001b[0;34m(\u001b[0m\u001b[0mkey\u001b[0m\u001b[0;34m)\u001b[0m\u001b[0;34m\u001b[0m\u001b[0;34m\u001b[0m\u001b[0m\n\u001b[0;32m-> 3458\u001b[0;31m             \u001b[0mindexer\u001b[0m \u001b[0;34m=\u001b[0m \u001b[0mself\u001b[0m\u001b[0;34m.\u001b[0m\u001b[0mcolumns\u001b[0m\u001b[0;34m.\u001b[0m\u001b[0mget_loc\u001b[0m\u001b[0;34m(\u001b[0m\u001b[0mkey\u001b[0m\u001b[0;34m)\u001b[0m\u001b[0;34m\u001b[0m\u001b[0;34m\u001b[0m\u001b[0m\n\u001b[0m\u001b[1;32m   3459\u001b[0m             \u001b[0;32mif\u001b[0m \u001b[0mis_integer\u001b[0m\u001b[0;34m(\u001b[0m\u001b[0mindexer\u001b[0m\u001b[0;34m)\u001b[0m\u001b[0;34m:\u001b[0m\u001b[0;34m\u001b[0m\u001b[0;34m\u001b[0m\u001b[0m\n\u001b[1;32m   3460\u001b[0m                 \u001b[0mindexer\u001b[0m \u001b[0;34m=\u001b[0m \u001b[0;34m[\u001b[0m\u001b[0mindexer\u001b[0m\u001b[0;34m]\u001b[0m\u001b[0;34m\u001b[0m\u001b[0;34m\u001b[0m\u001b[0m\n",
      "\u001b[0;32m~/miniconda3/envs/nlpcourseproject/lib/python3.7/site-packages/pandas/core/indexes/base.py\u001b[0m in \u001b[0;36mget_loc\u001b[0;34m(self, key, method, tolerance)\u001b[0m\n\u001b[1;32m   3361\u001b[0m                 \u001b[0;32mreturn\u001b[0m \u001b[0mself\u001b[0m\u001b[0;34m.\u001b[0m\u001b[0m_engine\u001b[0m\u001b[0;34m.\u001b[0m\u001b[0mget_loc\u001b[0m\u001b[0;34m(\u001b[0m\u001b[0mcasted_key\u001b[0m\u001b[0;34m)\u001b[0m\u001b[0;34m\u001b[0m\u001b[0;34m\u001b[0m\u001b[0m\n\u001b[1;32m   3362\u001b[0m             \u001b[0;32mexcept\u001b[0m \u001b[0mKeyError\u001b[0m \u001b[0;32mas\u001b[0m \u001b[0merr\u001b[0m\u001b[0;34m:\u001b[0m\u001b[0;34m\u001b[0m\u001b[0;34m\u001b[0m\u001b[0m\n\u001b[0;32m-> 3363\u001b[0;31m                 \u001b[0;32mraise\u001b[0m \u001b[0mKeyError\u001b[0m\u001b[0;34m(\u001b[0m\u001b[0mkey\u001b[0m\u001b[0;34m)\u001b[0m \u001b[0;32mfrom\u001b[0m \u001b[0merr\u001b[0m\u001b[0;34m\u001b[0m\u001b[0;34m\u001b[0m\u001b[0m\n\u001b[0m\u001b[1;32m   3364\u001b[0m \u001b[0;34m\u001b[0m\u001b[0m\n\u001b[1;32m   3365\u001b[0m         \u001b[0;32mif\u001b[0m \u001b[0mis_scalar\u001b[0m\u001b[0;34m(\u001b[0m\u001b[0mkey\u001b[0m\u001b[0;34m)\u001b[0m \u001b[0;32mand\u001b[0m \u001b[0misna\u001b[0m\u001b[0;34m(\u001b[0m\u001b[0mkey\u001b[0m\u001b[0;34m)\u001b[0m \u001b[0;32mand\u001b[0m \u001b[0;32mnot\u001b[0m \u001b[0mself\u001b[0m\u001b[0;34m.\u001b[0m\u001b[0mhasnans\u001b[0m\u001b[0;34m:\u001b[0m\u001b[0;34m\u001b[0m\u001b[0;34m\u001b[0m\u001b[0m\n",
      "\u001b[0;31mKeyError\u001b[0m: 'rum_name'"
     ]
    }
   ],
   "source": [
    "data['rum_name']=='CTNoText'"
   ]
  },
  {
   "cell_type": "code",
   "execution_count": null,
   "id": "b939e856",
   "metadata": {},
   "outputs": [],
   "source": []
  }
 ],
 "metadata": {
  "kernelspec": {
   "display_name": "nlpcourseproject",
   "language": "python",
   "name": "nlpcourseproject"
  },
  "language_info": {
   "codemirror_mode": {
    "name": "ipython",
    "version": 3
   },
   "file_extension": ".py",
   "mimetype": "text/x-python",
   "name": "python",
   "nbconvert_exporter": "python",
   "pygments_lexer": "ipython3",
   "version": "3.7.11"
  }
 },
 "nbformat": 4,
 "nbformat_minor": 5
}
