{
 "cells": [
  {
   "cell_type": "code",
   "execution_count": 2,
   "id": "c8628700",
   "metadata": {},
   "outputs": [
    {
     "name": "stdout",
     "output_type": "stream",
     "text": [
      "/home/gabe/Coding/nlpcourseproject\n"
     ]
    }
   ],
   "source": [
    "from pathlib import Path\n",
    "import pandas as pd\n",
    "import numpy as np\n",
    "import re\n",
    "\n",
    "pd.set_option('display.max_rows', 500)\n",
    "pd.set_option('display.max_columns', 500)\n",
    "pd.set_option('display.width', 150)\n",
    "\n",
    "import matplotlib.pyplot as plt\n",
    "\n",
    "import plotly.graph_objects as go\n",
    "from plotly.subplots import make_subplots\n",
    "\n",
    "# %matplotlib inline\n",
    "PROJECT_ROOT = Path.cwd().parent\n",
    "data_path = PROJECT_ROOT.joinpath('data')\n",
    "print(PROJECT_ROOT)"
   ]
  },
  {
   "cell_type": "code",
   "execution_count": 17,
   "id": "a2037c57",
   "metadata": {},
   "outputs": [],
   "source": [
    "group_name_map = {\n",
    "    'anli[dev_r1]': 'ANLI R1',\n",
    "    'anli[dev_r2]':  'ANLI R2',\n",
    "    'anli[dev_r3]':  'ANLI R3',\n",
    "    'AQuA[validation]':  'AQuA',\n",
    "    'CommitmentBank[validation]': 'CB',\n",
    "    'craigslist_bargains[validation]':'CraigslistBargains',\n",
    "    'RecognizingTextualEntailment[validation]':'RTE',\n",
    "    'WordsinContext[validation]': 'WiC',\n",
    "}"
   ]
  },
  {
   "cell_type": "code",
   "execution_count": 27,
   "id": "1cfb63ee",
   "metadata": {},
   "outputs": [],
   "source": [
    "baselines = pd.read_csv(data_path.joinpath('baselines.csv'))\n",
    "baselines = baselines[baselines['group'].isin(group_name_map) & baselines['run_name'].isin(\n",
    "    ['T0','T5']\n",
    ")].copy()\n",
    "baselines['group'] = baselines['group'].apply(lambda x: group_name_map[x])\n",
    "\n",
    "cross_task = pd.read_csv(data_path.joinpath('cross_task.csv'))"
   ]
  },
  {
   "cell_type": "code",
   "execution_count": 33,
   "id": "ea09ac77",
   "metadata": {},
   "outputs": [
    {
     "data": {
      "text/plain": [
       "0      59.5\n",
       "1      43.0\n",
       "2      29.5\n",
       "3      52.0\n",
       "4      29.5\n",
       "       ... \n",
       "715    63.0\n",
       "716    36.5\n",
       "717    33.0\n",
       "718    59.0\n",
       "719    84.0\n",
       "Name: accuracy_rank, Length: 720, dtype: float64"
      ]
     },
     "execution_count": 33,
     "metadata": {},
     "output_type": "execute_result"
    }
   ],
   "source": [
    "cross_task.accuracy_rank"
   ]
  },
  {
   "cell_type": "code",
   "execution_count": null,
   "id": "0df87615",
   "metadata": {},
   "outputs": [],
   "source": []
  }
 ],
 "metadata": {
  "kernelspec": {
   "display_name": "nlpcourseproject",
   "language": "python",
   "name": "nlpcourseproject"
  },
  "language_info": {
   "codemirror_mode": {
    "name": "ipython",
    "version": 3
   },
   "file_extension": ".py",
   "mimetype": "text/x-python",
   "name": "python",
   "nbconvert_exporter": "python",
   "pygments_lexer": "ipython3",
   "version": "3.7.11"
  }
 },
 "nbformat": 4,
 "nbformat_minor": 5
}
