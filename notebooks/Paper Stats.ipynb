{
 "cells": [
  {
   "cell_type": "code",
   "execution_count": 2,
   "id": "20570d79",
   "metadata": {},
   "outputs": [
    {
     "name": "stdout",
     "output_type": "stream",
     "text": [
      "/home/gabe/Coding/nlpcourseproject\n"
     ]
    }
   ],
   "source": [
    "from pathlib import Path\n",
    "import pandas as pd\n",
    "import numpy as np\n",
    "import re\n",
    "\n",
    "pd.set_option('display.max_rows', 500)\n",
    "pd.set_option('display.max_columns', 500)\n",
    "pd.set_option('display.width', 150)\n",
    "\n",
    "import matplotlib.pyplot as plt\n",
    "\n",
    "import plotly.graph_objects as go\n",
    "from plotly.subplots import make_subplots\n",
    "\n",
    "# %matplotlib inline\n",
    "PROJECT_ROOT = Path.cwd().parent\n",
    "data_path = PROJECT_ROOT.joinpath('data')\n",
    "print(PROJECT_ROOT)"
   ]
  },
  {
   "cell_type": "code",
   "execution_count": 17,
   "id": "654b17b8",
   "metadata": {},
   "outputs": [],
   "source": [
    "group_name_map = {\n",
    "    'anli[dev_r1]': 'ANLI R1',\n",
    "    'anli[dev_r2]':  'ANLI R2',\n",
    "    'anli[dev_r3]':  'ANLI R3',\n",
    "    'AQuA[validation]':  'AQuA',\n",
    "    'CommitmentBank[validation]': 'CB',\n",
    "    'craigslist_bargains[validation]':'CraigslistBargains',\n",
    "    'RecognizingTextualEntailment[validation]':'RTE',\n",
    "    'WordsinContext[validation]': 'WiC',\n",
    "}"
   ]
  },
  {
   "cell_type": "code",
   "execution_count": 35,
   "id": "81e81028",
   "metadata": {},
   "outputs": [],
   "source": [
    "baselines = pd.read_csv(data_path.joinpath('baselines.csv'))\n",
    "baselines = baselines[baselines['group'].isin(group_name_map) & baselines['run_name'].isin(\n",
    "    ['T0','T5']\n",
    ")].copy()\n",
    "baselines['group'] = baselines['group'].apply(lambda x: group_name_map[x])\n",
    "\n",
    "cross_task = pd.read_csv(data_path.joinpath('cross_task.csv'))"
   ]
  },
  {
   "cell_type": "code",
   "execution_count": null,
   "id": "08e1af73",
   "metadata": {},
   "outputs": [],
   "source": []
  },
  {
   "cell_type": "markdown",
   "id": "f7abe25e",
   "metadata": {},
   "source": [
    "# Cross Task Results"
   ]
  },
  {
   "cell_type": "code",
   "execution_count": 42,
   "id": "d15b512a",
   "metadata": {},
   "outputs": [],
   "source": [
    "training_prompts = cross_task[cross_task['training_task']]\n",
    "unseen_prompts=  cross_task[(~cross_task['training_task']) & ~(cross_task['prompt_task']==\"BAREBONES\")]"
   ]
  },
  {
   "cell_type": "code",
   "execution_count": null,
   "id": "c199d70a",
   "metadata": {},
   "outputs": [],
   "source": []
  },
  {
   "cell_type": "code",
   "execution_count": null,
   "id": "d2169013",
   "metadata": {},
   "outputs": [],
   "source": []
  }
 ],
 "metadata": {
  "kernelspec": {
   "display_name": "nlpcourseproject",
   "language": "python",
   "name": "nlpcourseproject"
  },
  "language_info": {
   "codemirror_mode": {
    "name": "ipython",
    "version": 3
   },
   "file_extension": ".py",
   "mimetype": "text/x-python",
   "name": "python",
   "nbconvert_exporter": "python",
   "pygments_lexer": "ipython3",
   "version": "3.7.11"
  }
 },
 "nbformat": 4,
 "nbformat_minor": 5
}
